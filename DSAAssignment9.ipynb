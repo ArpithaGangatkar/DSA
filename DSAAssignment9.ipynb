{
 "cells": [
  {
   "cell_type": "markdown",
   "id": "e132714e-47df-404b-a935-14104cf10de8",
   "metadata": {},
   "source": [
    "<aside>\n",
    "💡 **Question 1**\n",
    "\n",
    "Given an integer `n`, return *`true` if it is a power of two. Otherwise, return `false`*.\n",
    "\n",
    "An integer `n` is a power of two, if there exists an integer `x` such that `n == 2x`.\n",
    "\n",
    "**Example 1:**\n",
    "Input: n = 1 \n",
    "\n",
    "Output: true\n",
    "\n",
    "**Example 2:**\n",
    "Input: n = 16 \n",
    "\n",
    "Output: true\n",
    "\n",
    "**Example 3:**\n",
    "Input: n = 3 \n",
    "\n",
    "Output: false\n",
    "\n",
    "</aside>"
   ]
  },
  {
   "cell_type": "code",
   "execution_count": 5,
   "id": "1439cd27-3f1d-4c46-b868-fc32d155da86",
   "metadata": {},
   "outputs": [],
   "source": [
    "def power2(num):\n",
    "    \n",
    "    if(num<=0 or num%2!=0):\n",
    "        return False\n",
    "    if num/2==1:\n",
    "        return True\n",
    "    \n",
    "    return power2(num/2)\n",
    "    "
   ]
  },
  {
   "cell_type": "code",
   "execution_count": 9,
   "id": "91201b9d-02cd-4f3b-8752-e0c6ad3b6a99",
   "metadata": {},
   "outputs": [
    {
     "data": {
      "text/plain": [
       "False"
      ]
     },
     "execution_count": 9,
     "metadata": {},
     "output_type": "execute_result"
    }
   ],
   "source": [
    "power2(6)"
   ]
  },
  {
   "cell_type": "markdown",
   "id": "7874d649-9937-4f5d-85c2-98a60b546305",
   "metadata": {},
   "source": [
    "<aside>\n",
    "💡 **Question 2**\n",
    "\n",
    "Given a number n, find the sum of the first natural numbers.\n",
    "\n",
    "**Example 1:**\n",
    "\n",
    "Input: n = 3 \n",
    "\n",
    "Output: 6\n",
    "\n",
    "**Example 2:**\n",
    "\n",
    "Input  : 5 \n",
    "\n",
    "Output : 15\n",
    "\n",
    "</aside>"
   ]
  },
  {
   "cell_type": "code",
   "execution_count": 12,
   "id": "bc244cf3-a3ef-4aac-8f6a-265eac3b6295",
   "metadata": {},
   "outputs": [],
   "source": [
    "def natural(num):\n",
    "    \n",
    "    if num==1:\n",
    "        return 1\n",
    "    else:\n",
    "        return num+natural(num-1)"
   ]
  },
  {
   "cell_type": "code",
   "execution_count": 13,
   "id": "e2720815-28c2-41fa-946d-986ce4975ea9",
   "metadata": {},
   "outputs": [
    {
     "data": {
      "text/plain": [
       "15"
      ]
     },
     "execution_count": 13,
     "metadata": {},
     "output_type": "execute_result"
    }
   ],
   "source": [
    "natural(5)"
   ]
  },
  {
   "cell_type": "markdown",
   "id": "acd0ea5e-f542-418b-87a2-cfa62cfd1eb5",
   "metadata": {},
   "source": [
    "<aside>\n",
    "💡 **Question 3**\n",
    "\n",
    "****Given a positive integer, N. Find the factorial of N. \n",
    "\n",
    "**Example 1:**\n",
    "\n",
    "Input: N = 5 \n",
    "\n",
    "Output: 120\n",
    "\n",
    "**Example 2:**\n",
    "\n",
    "Input: N = 4\n",
    "\n",
    "Output: 24\n",
    "\n",
    "</aside>"
   ]
  },
  {
   "cell_type": "code",
   "execution_count": 14,
   "id": "ebbddb12-15c1-44ec-9329-1fac650d6129",
   "metadata": {},
   "outputs": [],
   "source": [
    "def factorial(num):\n",
    "    \n",
    "    if num==1:\n",
    "        return 1\n",
    "    else:\n",
    "        return num* factorial(num-1)"
   ]
  },
  {
   "cell_type": "code",
   "execution_count": 15,
   "id": "2d767e23-1b65-431b-9fbc-520af708290f",
   "metadata": {},
   "outputs": [
    {
     "data": {
      "text/plain": [
       "120"
      ]
     },
     "execution_count": 15,
     "metadata": {},
     "output_type": "execute_result"
    }
   ],
   "source": [
    "factorial (5)"
   ]
  },
  {
   "cell_type": "code",
   "execution_count": 16,
   "id": "e987fe9c-8572-4574-8837-b73de7a7f9db",
   "metadata": {},
   "outputs": [],
   "source": [
    "def expo(n,p):\n",
    "    \n",
    "    if p==1:\n",
    "        return n\n",
    "    else:\n",
    "        return n*expo(n,p-1)"
   ]
  },
  {
   "cell_type": "code",
   "execution_count": 18,
   "id": "e92b55a6-ef93-40a0-88ff-2c7f3fa31c81",
   "metadata": {},
   "outputs": [
    {
     "data": {
      "text/plain": [
       "125"
      ]
     },
     "execution_count": 18,
     "metadata": {},
     "output_type": "execute_result"
    }
   ],
   "source": [
    "expo(5,3)"
   ]
  },
  {
   "cell_type": "markdown",
   "id": "61ea5117-efd6-499b-bb32-28b79919340b",
   "metadata": {},
   "source": [
    "<aside>\n",
    "💡 **Question 5**\n",
    "\n",
    "Given an array of integers **arr**, the task is to find maximum element of that array using recursion.\n",
    "\n",
    "**Example 1:**\n",
    "\n",
    "Input: arr = {1, 4, 3, -5, -4, 8, 6};\n",
    "Output: 8\n",
    "\n",
    "**Example 2:**\n",
    "\n",
    "Input: arr = {1, 4, 45, 6, 10, -8};\n",
    "Output: 45\n",
    "\n",
    "</aside>"
   ]
  },
  {
   "cell_type": "code",
   "execution_count": 19,
   "id": "ea6fc9de-5525-4941-9dda-ea82df84964c",
   "metadata": {},
   "outputs": [],
   "source": [
    "def findmax(arr,n):\n",
    "    \n",
    "    if n==1:\n",
    "        return arr[0]\n",
    "    maxelement=findmax(arr , n-1)\n",
    "    \n",
    "    if arr[n-1]>maxelement:\n",
    "        return arr[n-1]\n",
    "    else:\n",
    "        return maxelement"
   ]
  },
  {
   "cell_type": "code",
   "execution_count": 21,
   "id": "cb4549d9-b189-4e98-8045-321f05667e4b",
   "metadata": {},
   "outputs": [
    {
     "data": {
      "text/plain": [
       "8"
      ]
     },
     "execution_count": 21,
     "metadata": {},
     "output_type": "execute_result"
    }
   ],
   "source": [
    "findmax([1, 4, 3, -5, -4, 8, 6],7)"
   ]
  },
  {
   "cell_type": "markdown",
   "id": "9b9ff553-39b7-4600-8cb0-3eadc0088ef0",
   "metadata": {},
   "source": [
    "<aside>\n",
    "💡 **Question 6**\n",
    "\n",
    "Given first term (a), common difference (d) and a integer N of the Arithmetic Progression series, the task is to find Nth term of the series.\n",
    "\n",
    "**Example 1:**\n",
    "\n",
    "Input : a = 2 d = 1 N = 5\n",
    "Output : 6\n",
    "The 5th term of the series is : 6\n",
    "\n",
    "**Example 2:**\n",
    "\n",
    "Input : a = 5 d = 2 N = 10\n",
    "Output : 23\n",
    "The 10th term of the series is : 23\n",
    "\n",
    "</aside>"
   ]
  },
  {
   "cell_type": "code",
   "execution_count": 24,
   "id": "0492b0c2-6213-4904-a222-c81adec0955c",
   "metadata": {},
   "outputs": [],
   "source": [
    "def arithmetic (a,d,n):\n",
    "    if n==1:\n",
    "        return a\n",
    "    else:\n",
    "        return  arithmetic (a+d ,d,n-1)"
   ]
  },
  {
   "cell_type": "code",
   "execution_count": 26,
   "id": "c0dd7f1e-27e9-4d67-9336-3766499bcdf5",
   "metadata": {},
   "outputs": [
    {
     "data": {
      "text/plain": [
       "23"
      ]
     },
     "execution_count": 26,
     "metadata": {},
     "output_type": "execute_result"
    }
   ],
   "source": [
    "arithmetic(5,2,10)"
   ]
  },
  {
   "cell_type": "markdown",
   "id": "4dc51fff-bed4-4c6a-856e-7aab1d238ab9",
   "metadata": {},
   "source": [
    "<aside>\n",
    "💡 **Question 7**\n",
    "\n",
    "Given a string S, the task is to write a program to print all permutations of a given string.\n",
    "\n",
    "**Example 1:**\n",
    "\n",
    "***Input:***\n",
    "\n",
    "*S = “ABC”*\n",
    "\n",
    "***Output:***\n",
    "\n",
    "*“ABC”, “ACB”, “BAC”, “BCA”, “CBA”, “CAB”*\n",
    "\n",
    "**Example 2:**\n",
    "\n",
    "***Input:***\n",
    "\n",
    "*S = “XY”*\n",
    "\n",
    "***Output:***\n",
    "\n",
    "*“XY”, “YX”*\n",
    "\n",
    "</aside>"
   ]
  },
  {
   "cell_type": "code",
   "execution_count": 37,
   "id": "ea4b26b0-d448-4669-8c67-2a05c540a254",
   "metadata": {},
   "outputs": [
    {
     "name": "stdout",
     "output_type": "stream",
     "text": [
      "['ABC', 'ACB', 'BAC', 'BCA', 'CAB', 'CBA']\n"
     ]
    }
   ],
   "source": [
    "def generatePermutations(S, current=\"\", permutations=[]):\n",
    "    # Base case: If the current permutation is of the same length as the original string,\n",
    "    # add it to the list of permutations\n",
    "    if len(current) == len(S):\n",
    "        permutations.append(current)\n",
    "        return\n",
    "\n",
    "    # Recursive case: Generate permutations by adding each character to the current permutation\n",
    "    for char in S:\n",
    "        # Skip characters that have already been used in the current permutation\n",
    "        if char not in current:\n",
    "            generatePermutations(S, current + char, permutations)\n",
    "\n",
    "    return permutations\n",
    "\n",
    "# Example usage\n",
    "S = \"ABC\"\n",
    "result = generatePermutations(S)\n",
    "print(result)  # Output: ['ABC', 'ACB', 'BAC', 'BCA', 'CAB', 'CBA']\n"
   ]
  },
  {
   "cell_type": "code",
   "execution_count": null,
   "id": "8227500f-cd0c-4300-8f67-b38419d199be",
   "metadata": {},
   "outputs": [],
   "source": []
  },
  {
   "cell_type": "markdown",
   "id": "d17cd93a-8857-4d3b-8be3-7021475e9842",
   "metadata": {},
   "source": [
    "<aside>\n",
    "💡 **Question 8**\n",
    "\n",
    "Given an array, find a product of all array elements.\n",
    "\n",
    "**Example 1:**\n",
    "\n",
    "Input  : arr[] = {1, 2, 3, 4, 5}\n",
    "Output : 120\n",
    "**Example 2:**\n",
    "\n",
    "Input  : arr[] = {1, 6, 3}\n",
    "Output : 18\n",
    "\n",
    "</aside>"
   ]
  },
  {
   "cell_type": "code",
   "execution_count": 34,
   "id": "7579c0f8-0efc-4b84-81fc-7e57b4123a3f",
   "metadata": {},
   "outputs": [],
   "source": [
    "def findproduct(arr,n):\n",
    "    \n",
    "    if n==0:\n",
    "        return arr[0]\n",
    "    else:\n",
    "        return arr[n]*findproduct(arr , n-1)\n",
    "    \n",
    "    "
   ]
  },
  {
   "cell_type": "code",
   "execution_count": 36,
   "id": "63992927-9de7-4505-a680-2ecc1316ad85",
   "metadata": {},
   "outputs": [
    {
     "data": {
      "text/plain": [
       "18"
      ]
     },
     "execution_count": 36,
     "metadata": {},
     "output_type": "execute_result"
    }
   ],
   "source": [
    "findproduct([1, 6,3],2)"
   ]
  },
  {
   "cell_type": "code",
   "execution_count": null,
   "id": "424b6c75-aa2a-425d-ad41-35c1f423ff43",
   "metadata": {},
   "outputs": [],
   "source": []
  }
 ],
 "metadata": {
  "kernelspec": {
   "display_name": "Python 3 (ipykernel)",
   "language": "python",
   "name": "python3"
  },
  "language_info": {
   "codemirror_mode": {
    "name": "ipython",
    "version": 3
   },
   "file_extension": ".py",
   "mimetype": "text/x-python",
   "name": "python",
   "nbconvert_exporter": "python",
   "pygments_lexer": "ipython3",
   "version": "3.10.6"
  }
 },
 "nbformat": 4,
 "nbformat_minor": 5
}
