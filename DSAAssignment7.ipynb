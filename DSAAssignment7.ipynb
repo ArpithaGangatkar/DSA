{
 "cells": [
  {
   "cell_type": "markdown",
   "id": "035ff3f5-c8bf-41de-9a6c-7a6878c8f6b1",
   "metadata": {},
   "source": [
    "<aside>\n",
    "💡 **Question 1**\n",
    "\n",
    "Given two strings s and t, *determine if they are isomorphic*.\n",
    "\n",
    "Two strings s and t are isomorphic if the characters in s can be replaced to get t.\n",
    "\n",
    "All occurrences of a character must be replaced with another character while preserving the order of characters. No two characters may map to the same character, but a character may map to itself.\n",
    "\n",
    "**Example 1:**\n",
    "\n",
    "**Input:** s = \"egg\", t = \"add\"\n",
    "\n",
    "**Output:** true\n",
    "\n",
    "</aside>"
   ]
  },
  {
   "cell_type": "code",
   "execution_count": 12,
   "id": "5a3b16a8-9e14-4d24-a127-4cef178fb527",
   "metadata": {},
   "outputs": [],
   "source": [
    "def isomorphic (s,t):\n",
    "    \n",
    "    mapping={}\n",
    "    if len(s)!= len(t):\n",
    "        return False\n",
    "    \n",
    "    else:\n",
    "        for i in range (0,len(s)):\n",
    "            if s[i] in mapping and mapping[s[i]]==t[i]:\n",
    "                continue\n",
    "            elif s[i] not in mapping:\n",
    "                mapping[s[i]]=t[i]\n",
    "                \n",
    "            else:\n",
    "                return False\n",
    "        return True\n",
    "            \n",
    "    \n",
    "    \n",
    "    \n",
    "    "
   ]
  },
  {
   "cell_type": "code",
   "execution_count": 14,
   "id": "a97803b9-bf4e-47d6-b674-7b6f7229cea6",
   "metadata": {},
   "outputs": [
    {
     "name": "stdout",
     "output_type": "stream",
     "text": [
      "{'e': 'a'}\n",
      "{'e': 'a', 'g': 'd'}\n"
     ]
    },
    {
     "data": {
      "text/plain": [
       "True"
      ]
     },
     "execution_count": 14,
     "metadata": {},
     "output_type": "execute_result"
    }
   ],
   "source": [
    "isomorphic('egg','add')"
   ]
  },
  {
   "cell_type": "markdown",
   "id": "04775481-4c11-4994-963a-c3a69da6b2dd",
   "metadata": {},
   "source": [
    "<aside>\n",
    "💡 **Question 2**\n",
    "\n",
    "Given a string num which represents an integer, return true *if* num *is a **strobogrammatic number***.\n",
    "\n",
    "A **strobogrammatic number** is a number that looks the same when rotated 180 degrees (looked at upside down).\n",
    "\n",
    "**Example 1:**\n",
    "\n",
    "**Input:** num = \"69\"\n",
    "\n",
    "**Output:**\n",
    "\n",
    "true\n",
    "\n",
    "</aside>"
   ]
  },
  {
   "cell_type": "code",
   "execution_count": 19,
   "id": "2b9c50ce-246b-4697-a7cd-faf7c3e66608",
   "metadata": {},
   "outputs": [],
   "source": [
    "def strobogrammatic(num):\n",
    "    d={'0':'0','1':'1','6':'9','8':'8','9':'6'}\n",
    "    s=str(num)\n",
    "    \n",
    "    l=0\n",
    "    r=len(s)-1\n",
    "    \n",
    "    while l<=r:\n",
    "        if s[l] in d and s[r] == d[s[l]]:\n",
    "            l+=1\n",
    "            r-=1\n",
    "            continue\n",
    "        else:\n",
    "            return False\n",
    "    return True\n",
    "\n",
    "    "
   ]
  },
  {
   "cell_type": "code",
   "execution_count": 17,
   "id": "751d998a-d6e2-4cc2-be1f-9587843f7fe9",
   "metadata": {},
   "outputs": [
    {
     "data": {
      "text/plain": [
       "True"
      ]
     },
     "execution_count": 17,
     "metadata": {},
     "output_type": "execute_result"
    }
   ],
   "source": [
    "strobogrammatic(69)"
   ]
  },
  {
   "cell_type": "code",
   "execution_count": 20,
   "id": "3c2f219d-ae52-4568-8d6c-a39901765cb0",
   "metadata": {},
   "outputs": [
    {
     "data": {
      "text/plain": [
       "False"
      ]
     },
     "execution_count": 20,
     "metadata": {},
     "output_type": "execute_result"
    }
   ],
   "source": [
    "strobogrammatic(121)"
   ]
  },
  {
   "cell_type": "markdown",
   "id": "a411531e-3544-463a-bc42-a2f2a7643009",
   "metadata": {},
   "source": [
    "<aside>\n",
    "💡 **Question 3**\n",
    "\n",
    "Given two non-negative integers, num1 and num2 represented as string, return *the sum of* num1 *and* num2 *as a string*.\n",
    "\n",
    "You must solve the problem without using any built-in library for handling large integers (such as BigInteger). You must also not convert the inputs to integers directly.\n",
    "\n",
    "**Example 1:**\n",
    "\n",
    "**Input:** num1 = \"11\", num2 = \"123\"\n",
    "\n",
    "**Output:**\n",
    "\n",
    "\"134\"\n",
    "\n",
    "</aside>"
   ]
  },
  {
   "cell_type": "code",
   "execution_count": 49,
   "id": "0a17ec38-d13c-4cce-9591-d7974e73e8f0",
   "metadata": {},
   "outputs": [],
   "source": [
    "def add(num1,num2):\n",
    "    if len(num1)>len(num2):\n",
    "        b=num1\n",
    "        s=num2\n",
    "    else:\n",
    "        b=num2\n",
    "        s=num1\n",
    "    r1=len(b)-1\n",
    "    r2=len(s)-1\n",
    "    \n",
    "    sum_list=[0 for _ in range(len(b))]\n",
    "    carry=0\n",
    "    while r1 !=-1:\n",
    "        if r2!=-1:\n",
    "            \n",
    "            sum= int(b[r1])+int(s[r2])+carry\n",
    "            sum_list[r1]=sum%10\n",
    "            carry=sum//10\n",
    "            r1-=1\n",
    "            r2-=1\n",
    "        else :\n",
    "            \n",
    "            sum= int(b[r1])+carry\n",
    "            sum_list[r1]=sum\n",
    "            r1-=1\n",
    "    print(sum_list)\n",
    "    \n",
    "    return ''.join([str(i) for i in sum_list])\n",
    "   \n",
    "    \n",
    "            \n",
    "        \n",
    "        \n",
    "        "
   ]
  },
  {
   "cell_type": "code",
   "execution_count": 50,
   "id": "981393cb-47b6-4c99-a9ad-06480af0f91f",
   "metadata": {},
   "outputs": [
    {
     "name": "stdout",
     "output_type": "stream",
     "text": [
      "[10, 9, 8]\n"
     ]
    },
    {
     "data": {
      "text/plain": [
       "'1098'"
      ]
     },
     "execution_count": 50,
     "metadata": {},
     "output_type": "execute_result"
    }
   ],
   "source": [
    "add('99','999')"
   ]
  },
  {
   "cell_type": "markdown",
   "id": "2d7a7479-4f71-4bb4-a5a4-c7027adaea95",
   "metadata": {},
   "source": [
    "<aside>\n",
    "💡 **Question 4**\n",
    "\n",
    "Given a string s, reverse the order of characters in each word within a sentence while still preserving whitespace and initial word order.\n",
    "\n",
    "**Example 1:**\n",
    "\n",
    "**Input:** s = \"Let's take LeetCode contest\"\n",
    "\n",
    "**Output:** \"s'teL ekat edoCteeL tsetnoc\"\n",
    "\n",
    "</aside>"
   ]
  },
  {
   "cell_type": "code",
   "execution_count": 57,
   "id": "e8a50c96-0521-4fbe-8144-cf0eedb6d088",
   "metadata": {},
   "outputs": [],
   "source": [
    "def rev(s):\n",
    "    final=''\n",
    "    word=''\n",
    "    for i in s:\n",
    "        if i!=' ':\n",
    "            word=word+i\n",
    "        else:\n",
    "            final+=word[::-1]+' '\n",
    "            word=''\n",
    "    return final+word[::-1]\n",
    "            \n",
    "            "
   ]
  },
  {
   "cell_type": "code",
   "execution_count": 58,
   "id": "5c00057c-7503-46c4-97ce-57c1860053a5",
   "metadata": {},
   "outputs": [
    {
     "data": {
      "text/plain": [
       "\"s'teL ekat edoCteeL tsetnoc\""
      ]
     },
     "execution_count": 58,
     "metadata": {},
     "output_type": "execute_result"
    }
   ],
   "source": [
    "rev( \"Let's take LeetCode contest\")"
   ]
  },
  {
   "cell_type": "markdown",
   "id": "3eb8c64a-ff9b-4b19-b675-4a001994e519",
   "metadata": {},
   "source": [
    "<aside>\n",
    "💡 **Question 5**\n",
    "\n",
    "Given a string s and an integer k, reverse the first k characters for every 2k characters counting from the start of the string.\n",
    "\n",
    "If there are fewer than k characters left, reverse all of them. If there are less than 2k but greater than or equal to k characters, then reverse the first k characters and leave the other as original.\n",
    "\n",
    "**Example 1:**\n",
    "\n",
    "**Input:** s = \"abcdefg\", k = 2\n",
    "\n",
    "**Output:**\n",
    "\n",
    "\"bacdfeg\"\n",
    "\n",
    "</aside>"
   ]
  },
  {
   "cell_type": "code",
   "execution_count": 99,
   "id": "382b97ad-d432-4e3d-a9f9-443a0f4f7cd8",
   "metadata": {},
   "outputs": [],
   "source": [
    "def krev(s, k):\n",
    "    result = \"\"\n",
    "    i = 0\n",
    "    while i < len(s):\n",
    "        # Reverse the first k characters\n",
    "        reversed_part = s[i:i+k][::-1]\n",
    "\n",
    "        # Append the reversed part and the rest of the string\n",
    "        result += reversed_part + s[i+k:i+2*k]\n",
    "\n",
    "        # Move to the next 2k characters\n",
    "        i += 2*k\n",
    "\n",
    "    return result\n",
    "\n",
    "    \n",
    "    "
   ]
  },
  {
   "cell_type": "code",
   "execution_count": 100,
   "id": "1038d4a6-86d0-40db-bb67-1fc6a6233e7d",
   "metadata": {},
   "outputs": [
    {
     "data": {
      "text/plain": [
       "'bacdfeg'"
      ]
     },
     "execution_count": 100,
     "metadata": {},
     "output_type": "execute_result"
    }
   ],
   "source": [
    "krev('abcdefg',2)"
   ]
  },
  {
   "cell_type": "markdown",
   "id": "bc0ed6e7-0177-401a-a564-cb1f2becbb39",
   "metadata": {},
   "source": [
    "<aside>\n",
    "💡 **Question 6**\n",
    "\n",
    "Given two strings s and goal, return true *if and only if* s *can become* goal *after some number of **shifts** on* s.\n",
    "\n",
    "A **shift** on s consists of moving the leftmost character of s to the rightmost position.\n",
    "\n",
    "- For example, if s = \"abcde\", then it will be \"bcdea\" after one shift.\n",
    "\n",
    "**Example 1:**\n",
    "\n",
    "**Input:** s = \"abcde\", goal = \"cdeab\"\n",
    "\n",
    "**Output:**\n",
    "\n",
    "true\n",
    "\n",
    "</aside>"
   ]
  },
  {
   "cell_type": "code",
   "execution_count": 19,
   "id": "a0f8888c-ea69-496c-a2cf-be6e3cf2b2b4",
   "metadata": {},
   "outputs": [],
   "source": [
    "def shift(s,goal):\n",
    "    \n",
    "    if len(s)!=len(goal):\n",
    "        return False\n",
    "    \n",
    "    else:\n",
    "        c=s+s\n",
    "        \n",
    "        if goal in c:\n",
    "            return True\n",
    "        else:\n",
    "            False"
   ]
  },
  {
   "cell_type": "code",
   "execution_count": 20,
   "id": "fdef0cea-b646-4761-ad9a-0f24436e1303",
   "metadata": {},
   "outputs": [
    {
     "data": {
      "text/plain": [
       "True"
      ]
     },
     "execution_count": 20,
     "metadata": {},
     "output_type": "execute_result"
    }
   ],
   "source": [
    "shift('abcde','cdeab')"
   ]
  },
  {
   "cell_type": "markdown",
   "id": "3e3d4df6-ca43-4cb2-88cf-12c777311005",
   "metadata": {},
   "source": [
    "<aside>\n",
    "💡 **Question 7**\n",
    "\n",
    "Given two strings s and t, return true *if they are equal when both are typed into empty text editors*. '#' means a backspace character.\n",
    "\n",
    "Note that after backspacing an empty text, the text will continue empty.\n",
    "\n",
    "**Example 1:**\n",
    "\n",
    "**Input:** s = \"ab#c\", t = \"ad#c\"\n",
    "\n",
    "**Output:** true\n",
    "\n",
    "**Explanation:**\n",
    "\n",
    "Both s and t become \"ac\".\n",
    "\n",
    "</aside>"
   ]
  },
  {
   "cell_type": "code",
   "execution_count": 9,
   "id": "bf2b977f-daaa-4af4-80f5-50618f4bb53f",
   "metadata": {},
   "outputs": [],
   "source": [
    "def equal(s,goal):\n",
    "    s1=[]\n",
    "    s2=[]\n",
    "    for i in s:\n",
    "        if i!='#':\n",
    "            s1.append(i)\n",
    "        else:\n",
    "            s1.pop()\n",
    "        \n",
    "    for j in goal:\n",
    "        if j!='#':\n",
    "            s2.append(j)\n",
    "        else:\n",
    "            s2.pop()\n",
    "    if s1==s2:\n",
    "        return True\n",
    "    else:\n",
    "        return False\n",
    "        "
   ]
  },
  {
   "cell_type": "code",
   "execution_count": 11,
   "id": "d2416ecf-403d-4e33-ac04-4e34c107066e",
   "metadata": {},
   "outputs": [
    {
     "data": {
      "text/plain": [
       "False"
      ]
     },
     "execution_count": 11,
     "metadata": {},
     "output_type": "execute_result"
    }
   ],
   "source": [
    "equal(\"ab#c\",  \"ad#cy\")"
   ]
  },
  {
   "cell_type": "markdown",
   "id": "5901e0eb-5964-48da-af8b-c7e2198229b1",
   "metadata": {},
   "source": [
    "<aside>\n",
    "💡 **Question 8**\n",
    "\n",
    "You are given an array coordinates, coordinates[i] = [x, y], where [x, y] represents the coordinate of a point. Check if these points make a straight line in the XY plane.\n",
    "\n",
    "**Example 1:**\n",
    "\n",
    "\n",
    "**Input:** coordinates = [[1,2],[2,3],[3,4],[4,5],[5,6],[6,7]]\n",
    "\n",
    "**Output:** true\n",
    "\n",
    "</aside>"
   ]
  },
  {
   "cell_type": "code",
   "execution_count": 16,
   "id": "ded3f034-df28-460e-a4ed-398abebf8787",
   "metadata": {},
   "outputs": [],
   "source": [
    "def line(nums):\n",
    "    l=len(nums)\n",
    "    if l<=2:\n",
    "        return True\n",
    "    else:\n",
    "        m=(nums[1][1]-nums[0][1])/(nums[1][0]-nums[0][0])\n",
    "        \n",
    "        \n",
    "        for i in range(2,l-1):\n",
    "            slope=(nums[i+1][1]-nums[i][1])/(nums[i+1][0]-nums[i][0])\n",
    "            if m==slope:\n",
    "                continue\n",
    "            else:\n",
    "                return False\n",
    "        return True"
   ]
  },
  {
   "cell_type": "code",
   "execution_count": 18,
   "id": "3eae6a20-91d2-4d4f-942e-a74d8cdd65cb",
   "metadata": {},
   "outputs": [
    {
     "name": "stdout",
     "output_type": "stream",
     "text": [
      "1.0\n"
     ]
    },
    {
     "data": {
      "text/plain": [
       "False"
      ]
     },
     "execution_count": 18,
     "metadata": {},
     "output_type": "execute_result"
    }
   ],
   "source": [
    "line( [[1,2],[2,3],[3,4],[4,5],[5,6],[6,6]])"
   ]
  },
  {
   "cell_type": "code",
   "execution_count": null,
   "id": "79c5f719-30b0-4266-9733-00ab92654388",
   "metadata": {},
   "outputs": [],
   "source": []
  }
 ],
 "metadata": {
  "kernelspec": {
   "display_name": "Python 3 (ipykernel)",
   "language": "python",
   "name": "python3"
  },
  "language_info": {
   "codemirror_mode": {
    "name": "ipython",
    "version": 3
   },
   "file_extension": ".py",
   "mimetype": "text/x-python",
   "name": "python",
   "nbconvert_exporter": "python",
   "pygments_lexer": "ipython3",
   "version": "3.10.6"
  }
 },
 "nbformat": 4,
 "nbformat_minor": 5
}
