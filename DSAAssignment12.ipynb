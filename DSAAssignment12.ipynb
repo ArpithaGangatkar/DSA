{
 "cells": [
  {
   "cell_type": "markdown",
   "id": "4a4882e8-e4b6-4e97-85a6-18550af7943c",
   "metadata": {},
   "source": [
    "<aside>\n",
    "💡 **Question 1**\n",
    "\n",
    "Given a singly linked list, delete **middle** of the linked list. For example, if given linked list is 1->2->**3**->4->5 then linked list should be modified to 1->2->4->5.If there are **even** nodes, then there would be **two middle** nodes, we need to delete the second middle element. For example, if given linked list is 1->2->3->4->5->6 then it should be modified to 1->2->3->5->6.If the input linked list is NULL or has 1 node, then it should return NULL\n",
    "\n",
    "**Example 1:**\n",
    "\n",
    "</aside>"
   ]
  },
  {
   "cell_type": "code",
   "execution_count": 1,
   "id": "3b6c7159-1824-4a7a-abd9-30e5e32df91f",
   "metadata": {},
   "outputs": [],
   "source": [
    "class ListNode:\n",
    "    def __init__(self, val=0, next=None):\n",
    "        self.val = val\n",
    "        self.next = next\n",
    "\n",
    "def deleteMiddle(head):\n",
    "    if not head or not head.next:\n",
    "        return None\n",
    "    \n",
    "    slow = fast = head\n",
    "    prev = None\n",
    "    \n",
    "    while fast and fast.next:\n",
    "        fast = fast.next.next\n",
    "        prev = slow\n",
    "        slow = slow.next\n",
    "    \n",
    "    prev.next = slow.next\n",
    "    \n",
    "    return head\n"
   ]
  },
  {
   "cell_type": "code",
   "execution_count": 2,
   "id": "18e0cda3-7654-4bb0-9841-dc875737431f",
   "metadata": {},
   "outputs": [
    {
     "name": "stdout",
     "output_type": "stream",
     "text": [
      "1 2 4 5 "
     ]
    }
   ],
   "source": [
    "# Create the linked list: 1 -> 2 -> 3 -> 4 -> 5\n",
    "head = ListNode(1)\n",
    "head.next = ListNode(2)\n",
    "head.next.next = ListNode(3)\n",
    "head.next.next.next = ListNode(4)\n",
    "head.next.next.next.next = ListNode(5)\n",
    "\n",
    "# Delete the middle node(s)\n",
    "new_head = deleteMiddle(head)\n",
    "\n",
    "# Print the modified linked list\n",
    "while new_head:\n",
    "    print(new_head.val, end=\" \")\n",
    "    new_head = new_head.next\n"
   ]
  },
  {
   "cell_type": "markdown",
   "id": "40a30957-922b-461d-a83c-7fa6f26f1949",
   "metadata": {},
   "source": [
    "<aside>\n",
    "💡 **Question 2**\n",
    "\n",
    "Given a linked list of **N** nodes. The task is to check if the linked list has a loop. Linked list can contain self loop.\n",
    "\n",
    "</aside>"
   ]
  },
  {
   "cell_type": "code",
   "execution_count": 3,
   "id": "9d99d691-4a63-4a47-a9c4-560cf904ad22",
   "metadata": {},
   "outputs": [],
   "source": [
    "class ListNode:\n",
    "    def __init__(self, val=0, next=None):\n",
    "        self.val = val\n",
    "        self.next = next\n",
    "\n",
    "def hasCycle(head):\n",
    "    if not head or not head.next:\n",
    "        return False\n",
    "    \n",
    "    slow = fast = head\n",
    "    \n",
    "    while fast and fast.next:\n",
    "        slow = slow.next\n",
    "        fast = fast.next.next\n",
    "        \n",
    "        if slow == fast:\n",
    "            return True\n",
    "    \n",
    "    return False\n"
   ]
  },
  {
   "cell_type": "code",
   "execution_count": 4,
   "id": "a95f5648-caca-4f86-9861-4f37abd34ed7",
   "metadata": {},
   "outputs": [
    {
     "name": "stdout",
     "output_type": "stream",
     "text": [
      "The linked list has a loop.\n"
     ]
    }
   ],
   "source": [
    "# Create the linked list: 1 -> 2 -> 3 -> 4 -> 5 -> 2 (loop)\n",
    "head = ListNode(1)\n",
    "head.next = ListNode(2)\n",
    "head.next.next = ListNode(3)\n",
    "head.next.next.next = ListNode(4)\n",
    "head.next.next.next.next = ListNode(5)\n",
    "head.next.next.next.next.next = head.next\n",
    "\n",
    "# Check if the linked list has a loop\n",
    "has_cycle = hasCycle(head)\n",
    "\n",
    "# Print the result\n",
    "if has_cycle:\n",
    "    print(\"The linked list has a loop.\")\n",
    "else:\n",
    "    print(\"The linked list does not have a loop.\")\n"
   ]
  },
  {
   "cell_type": "markdown",
   "id": "f4be032b-3a71-417e-bd41-1d2d825e5e27",
   "metadata": {},
   "source": [
    "<aside>\n",
    "💡 **Question 3**\n",
    "\n",
    "Given a linked list consisting of **L** nodes and given a number **N**. The task is to find the **N**th node from the end of the linked list.\n",
    "\n",
    "\n",
    "\n",
    "</aside>"
   ]
  },
  {
   "cell_type": "code",
   "execution_count": 5,
   "id": "94b9cdc8-e3ee-4688-bf6e-e0f8251dc489",
   "metadata": {},
   "outputs": [],
   "source": [
    "class ListNode:\n",
    "    def __init__(self, val=0, next=None):\n",
    "        self.val = val\n",
    "        self.next = next\n",
    "\n",
    "def findNthFromEnd(head, N):\n",
    "    if not head:\n",
    "        return None\n",
    "    \n",
    "    slow = fast = head\n",
    "    \n",
    "    # Move the fast pointer N nodes ahead\n",
    "    for _ in range(N):\n",
    "        if not fast:\n",
    "            return None\n",
    "        fast = fast.next\n",
    "    \n",
    "    # Move both pointers until the fast pointer reaches the end\n",
    "    while fast and fast.next:\n",
    "        slow = slow.next\n",
    "        fast = fast.next\n",
    "    \n",
    "    return slow.val\n"
   ]
  },
  {
   "cell_type": "code",
   "execution_count": 6,
   "id": "208a34bb-28bb-4079-9c75-644c2a8453bc",
   "metadata": {},
   "outputs": [
    {
     "name": "stdout",
     "output_type": "stream",
     "text": [
      "Nth node from the end: 3\n"
     ]
    }
   ],
   "source": [
    "# Create the linked list: 1 -> 2 -> 3 -> 4 -> 5\n",
    "head = ListNode(1)\n",
    "head.next = ListNode(2)\n",
    "head.next.next = ListNode(3)\n",
    "head.next.next.next = ListNode(4)\n",
    "head.next.next.next.next = ListNode(5)\n",
    "\n",
    "# Find the 2nd node from the end\n",
    "nth_from_end = findNthFromEnd(head, 2)\n",
    "\n",
    "# Print the result\n",
    "if nth_from_end is None:\n",
    "    print(\"Nth node from the end does not exist.\")\n",
    "else:\n",
    "    print(\"Nth node from the end:\", nth_from_end)\n"
   ]
  },
  {
   "cell_type": "markdown",
   "id": "a3144464-0943-4c68-aac8-9e9d31747276",
   "metadata": {},
   "source": [
    "<aside>\n",
    "💡 **Question 4**\n",
    "\n",
    "Given a singly linked list of characters, write a function that returns true if the given list is a palindrome, else false.\n",
    "\n",
    "</aside>"
   ]
  },
  {
   "cell_type": "code",
   "execution_count": 7,
   "id": "2457be60-7b72-4f39-84c8-4df9f6b00e0b",
   "metadata": {},
   "outputs": [],
   "source": [
    "class ListNode:\n",
    "    def __init__(self, val=0, next=None):\n",
    "        self.val = val\n",
    "        self.next = next\n",
    "\n",
    "def isPalindrome(head):\n",
    "    stack = []\n",
    "    current = head\n",
    "    \n",
    "    # Traverse the linked list and store characters in the stack\n",
    "    while current:\n",
    "        stack.append(current.val)\n",
    "        current = current.next\n",
    "    \n",
    "    # Traverse the linked list again and compare with stack elements\n",
    "    current = head\n",
    "    while current:\n",
    "        if current.val != stack.pop():\n",
    "            return False\n",
    "        current = current.next\n",
    "    \n",
    "    return True\n"
   ]
  },
  {
   "cell_type": "code",
   "execution_count": 8,
   "id": "0eecfc90-db1a-40d0-9ca6-08679274ae9e",
   "metadata": {},
   "outputs": [
    {
     "name": "stdout",
     "output_type": "stream",
     "text": [
      "The linked list is a palindrome.\n"
     ]
    }
   ],
   "source": [
    "# Create the linked list: 'a' -> 'b' -> 'c' -> 'b' -> 'a'\n",
    "head = ListNode('a')\n",
    "head.next = ListNode('b')\n",
    "head.next.next = ListNode('c')\n",
    "head.next.next.next = ListNode('b')\n",
    "head.next.next.next.next = ListNode('a')\n",
    "\n",
    "# Check if the linked list is a palindrome\n",
    "is_palindrome = isPalindrome(head)\n",
    "\n",
    "# Print the result\n",
    "if is_palindrome:\n",
    "    print(\"The linked list is a palindrome.\")\n",
    "else:\n",
    "    print(\"The linked list is not a palindrome.\")\n"
   ]
  },
  {
   "cell_type": "markdown",
   "id": "70c48373-5fd0-40ce-8dba-2b27787b6d81",
   "metadata": {},
   "source": [
    "<aside>\n",
    "💡 **Question 5**\n",
    "\n",
    "Given a linked list of **N** nodes such that it may contain a loop.\n",
    "\n",
    "A loop here means that the last node of the link list is connected to the node at position X(1-based index). If the link list does not have any loop, X=0.\n",
    "\n",
    "Remove the loop from the linked list, if it is present, i.e. unlink the last node which is forming the loop.\n",
    "\n",
    "</aside>"
   ]
  },
  {
   "cell_type": "code",
   "execution_count": 9,
   "id": "bef8ae2c-2ad5-49e8-a9e2-2ddc46838e71",
   "metadata": {},
   "outputs": [],
   "source": [
    "class ListNode:\n",
    "    def __init__(self, val=0, next=None):\n",
    "        self.val = val\n",
    "        self.next = next\n",
    "\n",
    "def detectAndRemoveLoop(head):\n",
    "    slow = fast = head\n",
    "    \n",
    "    # Move slow pointer by one step and fast pointer by two steps\n",
    "    while fast and fast.next:\n",
    "        slow = slow.next\n",
    "        fast = fast.next.next\n",
    "        \n",
    "        # Check if slow and fast pointers meet\n",
    "        if slow == fast:\n",
    "            break\n",
    "    \n",
    "    # If fast pointer reaches the end or becomes None, no loop exists\n",
    "    if not fast or not fast.next:\n",
    "        return head\n",
    "    \n",
    "    # Move slow pointer back to the head\n",
    "    slow = head\n",
    "    \n",
    "    # Move slow and fast pointers simultaneously until they meet again\n",
    "    while slow.next != fast.next:\n",
    "        slow = slow.next\n",
    "        fast = fast.next\n",
    "    \n",
    "    # Set the next pointer of the previous node of the meeting point to None\n",
    "    fast.next = None\n",
    "    \n",
    "    return head\n"
   ]
  },
  {
   "cell_type": "code",
   "execution_count": 10,
   "id": "3216f577-4506-45cf-a3e3-cd270c0a0d82",
   "metadata": {},
   "outputs": [
    {
     "name": "stdout",
     "output_type": "stream",
     "text": [
      "1 -> 2 -> 3 -> 4 -> 5 -> None\n"
     ]
    }
   ],
   "source": [
    "# Create the linked list: 1 -> 2 -> 3 -> 4 -> 5 -> 3 (loop)\n",
    "head = ListNode(1)\n",
    "head.next = ListNode(2)\n",
    "head.next.next = ListNode(3)\n",
    "head.next.next.next = ListNode(4)\n",
    "head.next.next.next.next = ListNode(5)\n",
    "head.next.next.next.next.next = head.next.next  # Create a loop\n",
    "\n",
    "# Detect and remove the loop in the linked list\n",
    "head = detectAndRemoveLoop(head)\n",
    "\n",
    "# Print the linked list\n",
    "current = head\n",
    "while current:\n",
    "    print(current.val, end=\" -> \")\n",
    "    current = current.next\n",
    "print(\"None\")\n"
   ]
  },
  {
   "cell_type": "markdown",
   "id": "c0e54bfa-c690-4e22-b6e5-6cda4876d884",
   "metadata": {},
   "source": [
    "<aside>\n",
    "💡 **Question 6**\n",
    "\n",
    "Given a linked list and two integers M and N. Traverse the linked list such that you retain M nodes then delete next N nodes, continue the same till end of the linked list.\n",
    "\n",
    "Difficulty Level: Rookie\n",
    "\n",
    "</aside>"
   ]
  },
  {
   "cell_type": "code",
   "execution_count": 16,
   "id": "2de8ada4-82bd-4f9d-9609-bec5b05f4edf",
   "metadata": {},
   "outputs": [],
   "source": [
    "class ListNode:\n",
    "    def __init__(self, val=0, next=None):\n",
    "        self.val = val\n",
    "        self.next = next\n",
    "\n",
    "def deleteNodes(head, M, N):\n",
    "    if not head:\n",
    "        return None\n",
    "    \n",
    "    current = head\n",
    "    \n",
    "    while current:\n",
    "        # Traverse M nodes\n",
    "        for _ in range(M-1):\n",
    "            if current and current.next:\n",
    "                current = current.next\n",
    "            else:\n",
    "                return head\n",
    "        \n",
    "        # Delete N nodes\n",
    "        prev = current\n",
    "        for _ in range(N):\n",
    "            if current and current.next:\n",
    "                current = current.next\n",
    "            else:\n",
    "                prev.next = None\n",
    "                return head\n",
    "        \n",
    "        prev.next = current.next\n",
    "    \n",
    "    return head\n"
   ]
  },
  {
   "cell_type": "code",
   "execution_count": 17,
   "id": "c4bb2605-60d8-48a3-ad19-4da3304f2f50",
   "metadata": {},
   "outputs": [
    {
     "name": "stdout",
     "output_type": "stream",
     "text": [
      "1 -> 2 -> 6 -> None\n"
     ]
    }
   ],
   "source": [
    "# Create the linked list: 1 -> 2 -> 3 -> 4 -> 5 -> 6 -> 7 -> 8 -> 9\n",
    "head = ListNode(1)\n",
    "current = head\n",
    "for i in range(2, 10):\n",
    "    current.next = ListNode(i)\n",
    "    current = current.next\n",
    "\n",
    "M = 2\n",
    "N = 3\n",
    "\n",
    "# Delete nodes in the specified pattern\n",
    "head = deleteNodes(head, M, N)\n",
    "\n",
    "# Print the modified linked list\n",
    "current = head\n",
    "while current:\n",
    "    print(current.val, end=\" -> \")\n",
    "    current = current.next\n",
    "print(\"None\")\n"
   ]
  },
  {
   "cell_type": "markdown",
   "id": "89bf8aa7-581a-476c-a385-7adf79645323",
   "metadata": {},
   "source": [
    "<aside>\n",
    "💡 **Question 7**\n",
    "\n",
    "Given two linked lists, insert nodes of second list into first list at alternate positions of first list.\n",
    "For example, if first list is 5->7->17->13->11 and second is 12->10->2->4->6, the first list should become 5->12->7->10->17->2->13->4->11->6 and second list should become empty. The nodes of second list should only be inserted when there are positions available. For example, if the first list is 1->2->3 and second list is 4->5->6->7->8, then first list should become 1->4->2->5->3->6 and second list to 7->8.\n",
    "\n",
    "Use of extra space is not allowed (Not allowed to create additional nodes), i.e., insertion must be done in-place. Expected time complexity is O(n) where n is number of nodes in first list.\n",
    "\n",
    "</aside>"
   ]
  },
  {
   "cell_type": "code",
   "execution_count": 18,
   "id": "4e3b52ec-51dc-43a8-a824-63d9d21c9718",
   "metadata": {},
   "outputs": [],
   "source": [
    "class ListNode:\n",
    "    def __init__(self, val=0, next=None):\n",
    "        self.val = val\n",
    "        self.next = next\n",
    "\n",
    "def mergeLists(first, second):\n",
    "    if not second:\n",
    "        return first\n",
    "    \n",
    "    current_first = first\n",
    "    current_second = second\n",
    "\n",
    "    while current_first and current_second:\n",
    "        next_first = current_first.next\n",
    "        next_second = current_second.next\n",
    "\n",
    "        current_first.next = current_second\n",
    "        current_second.next = next_first\n",
    "\n",
    "        current_first = next_first\n",
    "        current_second = next_second\n",
    "\n",
    "    return first\n"
   ]
  },
  {
   "cell_type": "code",
   "execution_count": 19,
   "id": "d785ce49-342e-4990-886b-27fdcf97c16c",
   "metadata": {},
   "outputs": [
    {
     "name": "stdout",
     "output_type": "stream",
     "text": [
      "5 -> 12 -> 7 -> 10 -> 17 -> 2 -> 13 -> 4 -> 11 -> 6 -> None\n",
      "<__main__.ListNode object at 0x7f57dc4ebca0>\n"
     ]
    }
   ],
   "source": [
    "# Create the first linked list: 5 -> 7 -> 17 -> 13 -> 11\n",
    "first_head = ListNode(5)\n",
    "current_first = first_head\n",
    "for val in [7, 17, 13, 11]:\n",
    "    current_first.next = ListNode(val)\n",
    "    current_first = current_first.next\n",
    "\n",
    "# Create the second linked list: 12 -> 10 -> 2 -> 4 -> 6\n",
    "second_head = ListNode(12)\n",
    "current_second = second_head\n",
    "for val in [10, 2, 4, 6]:\n",
    "    current_second.next = ListNode(val)\n",
    "    current_second = current_second.next\n",
    "\n",
    "# Merge the two lists\n",
    "first_head = mergeLists(first_head, second_head)\n",
    "\n",
    "# Print the modified first linked list\n",
    "current = first_head\n",
    "while current:\n",
    "    print(current.val, end=\" -> \")\n",
    "    current = current.next\n",
    "print(\"None\")\n",
    "\n",
    "# Print the second linked list (should be empty)\n",
    "print(second_head)\n"
   ]
  },
  {
   "cell_type": "markdown",
   "id": "f790dbf8-15b2-4455-8cda-031f4f556e32",
   "metadata": {},
   "source": [
    "<aside>\n",
    "💡 **Question 8**\n",
    "\n",
    "Given a singly linked list, find if the linked list is [circular](https://www.geeksforgeeks.org/circular-linked-list/amp/) or not.\n",
    "\n",
    "> A linked list is called circular if it is not NULL-terminated and all nodes are connected in the form of a cycle. Below is an example of a circular linked list.\n",
    "> \n",
    "</aside>"
   ]
  },
  {
   "cell_type": "code",
   "execution_count": 21,
   "id": "fa887368-90b0-49bb-aa0a-9dd9a52e1f98",
   "metadata": {},
   "outputs": [],
   "source": [
    "class ListNode:\n",
    "    def __init__(self, val=0, next=None):\n",
    "        self.val = val\n",
    "        self.next = next\n",
    "\n",
    "def isCircular(head):\n",
    "    if not head or not head.next:\n",
    "        return False\n",
    "    \n",
    "    slow = head\n",
    "    fast = head.next\n",
    "\n",
    "    while fast and fast.next:\n",
    "        if slow == fast:\n",
    "            return True\n",
    "        slow = slow.next\n",
    "        fast = fast.next.next\n",
    "\n",
    "    return False\n"
   ]
  },
  {
   "cell_type": "code",
   "execution_count": 22,
   "id": "14984d01-0733-474f-956e-83e84fdeca32",
   "metadata": {},
   "outputs": [
    {
     "name": "stdout",
     "output_type": "stream",
     "text": [
      "Is the linked list circular? True\n"
     ]
    }
   ],
   "source": [
    "# Create a circular linked list: 1 -> 2 -> 3 -> 4 -> 2 (points back to 2)\n",
    "head = ListNode(1)\n",
    "node2 = ListNode(2)\n",
    "node3 = ListNode(3)\n",
    "node4 = ListNode(4)\n",
    "\n",
    "head.next = node2\n",
    "node2.next = node3\n",
    "node3.next = node4\n",
    "node4.next = node2\n",
    "\n",
    "# Check if the linked list is circular\n",
    "circular = isCircular(head)\n",
    "print(\"Is the linked list circular?\", circular)\n"
   ]
  },
  {
   "cell_type": "code",
   "execution_count": null,
   "id": "667c2403-4204-4ffa-afd2-a1cfe80136f2",
   "metadata": {},
   "outputs": [],
   "source": []
  }
 ],
 "metadata": {
  "kernelspec": {
   "display_name": "Python 3 (ipykernel)",
   "language": "python",
   "name": "python3"
  },
  "language_info": {
   "codemirror_mode": {
    "name": "ipython",
    "version": 3
   },
   "file_extension": ".py",
   "mimetype": "text/x-python",
   "name": "python",
   "nbconvert_exporter": "python",
   "pygments_lexer": "ipython3",
   "version": "3.10.6"
  }
 },
 "nbformat": 4,
 "nbformat_minor": 5
}
