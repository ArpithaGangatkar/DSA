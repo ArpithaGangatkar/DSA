{
 "cells": [
  {
   "cell_type": "markdown",
   "id": "e130d073-70c1-405b-b3d5-84a3a3e27387",
   "metadata": {},
   "source": [
    "### Q1. Given an array, for each element find the value of the nearest element to the right which is having a frequency greater than that of the current element. If there does not exist an answer for a position, then make the value ‘-1’."
   ]
  },
  {
   "cell_type": "code",
   "execution_count": 23,
   "id": "bd70d005-1fe9-455c-91de-e340fe11b27c",
   "metadata": {},
   "outputs": [],
   "source": [
    "def findNearestElement(arr):\n",
    "    frequency = {}\n",
    "    stack = []\n",
    "    result = [-1] * len(arr)\n",
    "    \n",
    "    for num in arr:\n",
    "        frequency[num] = frequency.get(num, 0) + 1\n",
    "        \n",
    "    for i  in range(len(arr) - 1, -1, -1):\n",
    "        while stack and frequency[arr[i]] > frequency[arr[stack[-1]]]:\n",
    "            stack.pop()\n",
    "           \n",
    "        if stack:\n",
    "            result[i] = arr[stack[-1]]\n",
    "        \n",
    "        stack.append(i)\n",
    "        \n",
    "    return result    "
   ]
  },
  {
   "cell_type": "code",
   "execution_count": 24,
   "id": "c746bbc3-592b-4564-ae49-9c20e8124e73",
   "metadata": {},
   "outputs": [
    {
     "name": "stdout",
     "output_type": "stream",
     "text": [
      "[1, 1, 2, 4, 2, 1, -1]\n"
     ]
    }
   ],
   "source": [
    "arr = [1, 1, 2, 3, 4, 2, 1]\n",
    "result = findNearestElement(arr)\n",
    "print(result)"
   ]
  },
  {
   "cell_type": "markdown",
   "id": "df9285b1-965f-49cb-9710-b949018a709b",
   "metadata": {},
   "source": [
    "### Q2. Given a stack of integers, sort it in ascending order using another temporary stack."
   ]
  },
  {
   "cell_type": "code",
   "execution_count": 29,
   "id": "d7aa3840-9792-404e-a162-1dc7776fba9a",
   "metadata": {},
   "outputs": [],
   "source": [
    "def arrange(stack):\n",
    "    temp_stack = []\n",
    "    \n",
    "    while stack:\n",
    "        temp = stack.pop()\n",
    "        \n",
    "        while temp_stack and temp_stack[-1] > temp:\n",
    "            stack.append(temp_stack.pop())\n",
    "        \n",
    "        temp_stack.append(temp)\n",
    "    \n",
    "    return temp_stack"
   ]
  },
  {
   "cell_type": "code",
   "execution_count": 30,
   "id": "8dedf3a2-a1c1-4282-a6cd-3133dba72255",
   "metadata": {},
   "outputs": [
    {
     "name": "stdout",
     "output_type": "stream",
     "text": [
      "[3, 23, 31, 34, 92, 98]\n"
     ]
    }
   ],
   "source": [
    "st = [34, 3, 31, 98, 92, 23]\n",
    "print(arrange(st))"
   ]
  },
  {
   "cell_type": "markdown",
   "id": "cf4f9623-5c57-402d-b7ba-3c446ce1d457",
   "metadata": {},
   "source": [
    "### Q3. Given a stack with push(), pop(), and empty() operations, The task is to delete the middle element of it without using any additional data structure."
   ]
  },
  {
   "cell_type": "code",
   "execution_count": 58,
   "id": "715272a7-55a4-4b2d-9a01-260460ac6cc9",
   "metadata": {},
   "outputs": [],
   "source": [
    "def delete_middle(stack, current=0):\n",
    "    if len(stack) == 0 or len(stack) == 1:\n",
    "        return stack\n",
    "\n",
    "    temp = stack.pop()\n",
    "    stack = delete_middle(stack, current + 1)\n",
    "\n",
    "    if current != len(stack) // 2:\n",
    "        stack.append(temp)\n",
    "\n",
    "    return stack"
   ]
  },
  {
   "cell_type": "code",
   "execution_count": 59,
   "id": "04dc22be-9dac-4b19-9bbb-3b87ddba28a6",
   "metadata": {},
   "outputs": [
    {
     "name": "stdout",
     "output_type": "stream",
     "text": [
      "[1, 2, 3, 5]\n"
     ]
    }
   ],
   "source": [
    "stack = [1, 2, 3, 4, 5]\n",
    "modified_stack = delete_middle(stack)\n",
    "print(modified_stack)"
   ]
  },
  {
   "cell_type": "code",
   "execution_count": 56,
   "id": "9b044c33-bf9b-45c7-a0d7-ba370e4aadce",
   "metadata": {},
   "outputs": [],
   "source": [
    "def delete_middle(stack):\n",
    "    if len(stack) == 0:\n",
    "        return stack\n",
    "\n",
    "    temp_stack = []\n",
    "\n",
    "    middle_index = len(stack) // 2\n",
    "\n",
    "    while len(stack) > middle_index + 1:\n",
    "        temp_stack.append(stack.pop())\n",
    "\n",
    "    stack.pop()\n",
    "\n",
    "    while temp_stack:\n",
    "        stack.append(temp_stack.pop())\n",
    "\n",
    "    return stack\n"
   ]
  },
  {
   "cell_type": "code",
   "execution_count": 57,
   "id": "a3ac47c3-42b6-4d7e-96ed-8319a2f1cf93",
   "metadata": {},
   "outputs": [
    {
     "name": "stdout",
     "output_type": "stream",
     "text": [
      "[1, 2, 4, 5]\n"
     ]
    }
   ],
   "source": [
    "stack = [1, 2, 3, 4, 5]\n",
    "modified_stack = delete_middle(stack)\n",
    "print(modified_stack)"
   ]
  },
  {
   "cell_type": "markdown",
   "id": "f5206f54-98f5-4c1c-8ddb-21f1f9fe10ec",
   "metadata": {},
   "source": [
    "### Q4. Given a Queue consisting of first **n** natural numbers (in random order). The task is to check whether the given Queue elements can be arranged in increasing order in another Queue using a stack. The operation allowed are:\n",
    "1. Push and pop elements from the stack\n",
    "2. Pop (Or Dequeue) from the given Queue.\n",
    "3. Push (Or Enqueue) in the another Queue."
   ]
  },
  {
   "cell_type": "code",
   "execution_count": null,
   "id": "a4606894-124d-494b-9e18-f6e5f0c6a30d",
   "metadata": {},
   "outputs": [],
   "source": [
    "def "
   ]
  },
  {
   "cell_type": "markdown",
   "id": "89ca9272-2461-41dc-9f95-011336c3a2a0",
   "metadata": {},
   "source": [
    "### Q5. Given a number , write a program to reverse this number using stack."
   ]
  },
  {
   "cell_type": "code",
   "execution_count": 67,
   "id": "55c158d5-270e-4d2b-a226-c23fd27c3c7f",
   "metadata": {},
   "outputs": [],
   "source": [
    "def reverseNumber(n):\n",
    "    stack = []\n",
    "    s = str(n)\n",
    "    reversedNum = ''\n",
    "    \n",
    "    for char in s:\n",
    "        stack.append(char)\n",
    "     \n",
    "    while stack:\n",
    "        reversedNum += stack.pop()\n",
    "        \n",
    "    return reversedNum  "
   ]
  },
  {
   "cell_type": "code",
   "execution_count": 69,
   "id": "1474283a-3960-4b4d-8b83-80f5da625f00",
   "metadata": {},
   "outputs": [
    {
     "name": "stdout",
     "output_type": "stream",
     "text": [
      "785\n"
     ]
    }
   ],
   "source": [
    "n = 587\n",
    "print(reverseNumber(n))"
   ]
  },
  {
   "cell_type": "markdown",
   "id": "dc7626b9-9d8e-488f-b323-843936bb342e",
   "metadata": {},
   "source": [
    "### Q6. Given an integer k and a **[queue](https://www.geeksforgeeks.org/queue-data-structure/)** of integers, The task is to reverse the order of the first **k** elements of the queue, leaving the other elements in the same relative order.\n",
    "Only following standard operations are allowed on queue.\n",
    "- **enqueue(x) :** Add an item x to rear of queue\n",
    "- **dequeue() :** Remove an item from front of queue\n",
    "- **size() :** Returns number of elements in queue.\n",
    "- **front() :** Finds front item."
   ]
  },
  {
   "cell_type": "code",
   "execution_count": 80,
   "id": "057ee4ef-bb59-4cf4-95ae-fe39b0b6dac9",
   "metadata": {},
   "outputs": [
    {
     "name": "stdout",
     "output_type": "stream",
     "text": [
      "3\n",
      "2\n",
      "1\n",
      "4\n",
      "5\n"
     ]
    }
   ],
   "source": [
    "from queue import Queue\n",
    "from collections import deque\n",
    "\n",
    "\n",
    "def reversedOrder(queue, k):\n",
    "    stack = []\n",
    "    temp_queue = Queue()\n",
    "    \n",
    "    for ele in range(k):\n",
    "        stack.append(queue.get())\n",
    "     \n",
    "    while stack:\n",
    "        temp_queue.put(stack.pop())\n",
    "\n",
    "    # Enqueue the remaining elements from the original queue into the temporary queue\n",
    "    while not queue.empty():\n",
    "        temp_queue.put(queue.get())\n",
    "\n",
    "    # Update the original queue by dequeuing elements from the temporary queue\n",
    "    while not temp_queue.empty():\n",
    "        queue.put(temp_queue.get())\n",
    "\n",
    "    return queue\n",
    "\n",
    "queue = Queue()\n",
    "queue.put(1)\n",
    "queue.put(2)\n",
    "queue.put(3)\n",
    "queue.put(4)\n",
    "queue.put(5)\n",
    "\n",
    "k = 3\n",
    "reversed_queue = reversedOrder(queue, k)\n",
    "\n",
    "while not reversed_queue.empty():\n",
    "    print(reversed_queue.get())"
   ]
  },
  {
   "cell_type": "markdown",
   "id": "2725f514-0471-41df-be52-1c6fd4a5f9e3",
   "metadata": {},
   "source": [
    "### Q7. Given a sequence of n strings, the task is to check if any two similar words come together and then destroy each other then print the number of words left in the sequence after this pairwise destruction."
   ]
  },
  {
   "cell_type": "code",
   "execution_count": 83,
   "id": "4297d43e-4d8c-4a6e-9c35-ad316e913c6e",
   "metadata": {},
   "outputs": [],
   "source": [
    "def removeDuplicateWords(words):\n",
    "    stack = []\n",
    "    \n",
    "    for word in words:\n",
    "        if stack and stack[-1] == word:\n",
    "            stack.pop()\n",
    "        else:\n",
    "            stack.append(word)\n",
    "    \n",
    "    return len(stack)"
   ]
  },
  {
   "cell_type": "code",
   "execution_count": 84,
   "id": "00a89814-57ad-47de-9081-f6a7349d421b",
   "metadata": {},
   "outputs": [
    {
     "name": "stdout",
     "output_type": "stream",
     "text": [
      "Number of words left: 3\n"
     ]
    }
   ],
   "source": [
    "word_sequence = ['ab', 'aa', 'aa', 'bcd', 'ab']\n",
    "remaining_words = removeDuplicateWords(word_sequence)\n",
    "print(\"Number of words left:\", remaining_words)"
   ]
  },
  {
   "cell_type": "markdown",
   "id": "ec691c35-80f1-45e1-b43d-028b6255fcc1",
   "metadata": {},
   "source": [
    "### Q8. Given an array of integers, the task is to find the maximum absolute difference between the nearest left and the right smaller element of every element in the array.\n",
    "**Note:** If there is no smaller element on right side or left side of any element then we take zero as the smaller element. For example for the leftmost element, the nearest smaller element on the left side is considered as 0. Similarly, for rightmost elements, the smaller element on the right side is considered as 0."
   ]
  },
  {
   "cell_type": "code",
   "execution_count": 86,
   "id": "4ae934b8-d19e-41e3-9cff-ef2a03558650",
   "metadata": {},
   "outputs": [],
   "source": [
    "def absoluteDifference(arr):\n",
    "    n = len(arr)\n",
    "    left = [0] * n\n",
    "    right = [0] * n\n",
    "    stack = []\n",
    "    \n",
    "    for i in range(n):\n",
    "        while stack and stack[-1] >= arr[i]:\n",
    "            stack.pop()\n",
    "        \n",
    "        if stack:\n",
    "            left[i] = stack[-1]\n",
    "        stack.append(arr[i])\n",
    "            \n",
    "    stack.clear()\n",
    "    \n",
    "    for i in range(n - 1, -1, -1):\n",
    "        while stack and stack[-1] >= arr[i]:\n",
    "            stack.pop()\n",
    "        \n",
    "        if stack:\n",
    "            right[i] = stack[-1]\n",
    "        stack.append(arr[i])\n",
    "        \n",
    "    max_diff = 0\n",
    "    \n",
    "    for i in range(n):\n",
    "        max_diff = max(max_diff, abs(right[i] - left[i]))\n",
    "        \n",
    "    return max_diff    "
   ]
  },
  {
   "cell_type": "code",
   "execution_count": 87,
   "id": "c819f9bd-7e2e-44de-9062-a1514c1d9489",
   "metadata": {},
   "outputs": [
    {
     "name": "stdout",
     "output_type": "stream",
     "text": [
      "Maximum absolute difference: 1\n"
     ]
    }
   ],
   "source": [
    "arr = [2, 1, 8]\n",
    "result = absoluteDifference(arr)\n",
    "print(\"Maximum absolute difference:\", result)"
   ]
  },
  {
   "cell_type": "code",
   "execution_count": null,
   "id": "c304277d-68b3-4d81-8b5e-0d093436ea4a",
   "metadata": {},
   "outputs": [],
   "source": []
  }
 ],
 "metadata": {
  "kernelspec": {
   "display_name": "Python 3 (ipykernel)",
   "language": "python",
   "name": "python3"
  },
  "language_info": {
   "codemirror_mode": {
    "name": "ipython",
    "version": 3
   },
   "file_extension": ".py",
   "mimetype": "text/x-python",
   "name": "python",
   "nbconvert_exporter": "python",
   "pygments_lexer": "ipython3",
   "version": "3.10.6"
  }
 },
 "nbformat": 4,
 "nbformat_minor": 5
}
