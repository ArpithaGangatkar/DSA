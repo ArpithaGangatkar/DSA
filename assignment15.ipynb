{
 "cells": [
  {
   "cell_type": "markdown",
   "id": "f921b5b7-79fd-4e77-a893-14f470d28171",
   "metadata": {},
   "source": [
    "### Q1. Given an array arr[ ] of size N having elements, the task is to find the next greater element for each element of the array in order of their appearance in the array.Next greater element of an element in the array is the nearest element on the right which is greater than the current element.If there does not exist next greater of current element, then next greater element for current element is -1. For example, next greater of the last element is always -1."
   ]
  },
  {
   "cell_type": "code",
   "execution_count": 1,
   "id": "2468647d-7d94-48ee-bea1-93b3bf139b24",
   "metadata": {},
   "outputs": [],
   "source": [
    "def findNextGreater(arr):\n",
    "    stack = []\n",
    "    n = len(arr)\n",
    "    nextGreater = [-1] * n\n",
    "    \n",
    "    for i in range(n):\n",
    "        while stack and arr[i] > arr[stack[-1]]:\n",
    "            index = stack.pop()\n",
    "            nextGreater[index] = arr[i]\n",
    "            \n",
    "        stack.append(i)\n",
    "        \n",
    "    while stack:\n",
    "        index = stack.pop()\n",
    "        nextGreater[index] = -1\n",
    "        \n",
    "    return nextGreater    \n",
    "        "
   ]
  },
  {
   "cell_type": "code",
   "execution_count": 5,
   "id": "a77a5dbb-75b7-4c44-95b4-1ee1c84b5678",
   "metadata": {},
   "outputs": [
    {
     "name": "stdout",
     "output_type": "stream",
     "text": [
      "[3, 4, 4, -1]\n"
     ]
    }
   ],
   "source": [
    "n = 4\n",
    "arr = [1, 3, 2, 4]\n",
    "print(findNextGreater(arr))"
   ]
  },
  {
   "cell_type": "markdown",
   "id": "92792d2f-507b-4628-a016-073b94420496",
   "metadata": {},
   "source": [
    "### Q2. Given an array a of integers of length n, find the nearest smaller number for every element such that the smaller element is on left side.If no small element present on the left print -1."
   ]
  },
  {
   "cell_type": "code",
   "execution_count": 2,
   "id": "e1726aa2-2f1f-4f6c-a3c9-33de89c74fd1",
   "metadata": {},
   "outputs": [],
   "source": [
    "def findNearestSmaller(a):\n",
    "    n = len(a)\n",
    "    stack = []\n",
    "    smallerLeft = [-1] * n\n",
    "    \n",
    "    for i in range(n):\n",
    "        while stack and a[i] <= a[stack[-1]]:\n",
    "            stack.pop()\n",
    "            \n",
    "        if stack:\n",
    "            smallerLeft[i] = a[stack[-1]]\n",
    "            \n",
    "        stack.append(i)\n",
    "        \n",
    "    return smallerLeft    "
   ]
  },
  {
   "cell_type": "code",
   "execution_count": 4,
   "id": "c7f30a4c-18b0-4163-8577-45c67f8aa2d7",
   "metadata": {},
   "outputs": [
    {
     "name": "stdout",
     "output_type": "stream",
     "text": [
      "[-1, 1, 1]\n"
     ]
    }
   ],
   "source": [
    "n = 3\n",
    "a = [1, 6, 2]\n",
    "print(findNearestSmaller(a))"
   ]
  },
  {
   "cell_type": "markdown",
   "id": "06c25a65-5756-4a69-8242-12e4d6e01911",
   "metadata": {},
   "source": [
    "### Q3. Implement a Stack using two queues q1 and q2."
   ]
  },
  {
   "cell_type": "code",
   "execution_count": 5,
   "id": "c19ab31a-f9f0-454c-b8ef-cc2515237f61",
   "metadata": {},
   "outputs": [
    {
     "ename": "SyntaxError",
     "evalue": "incomplete input (87374852.py, line 6)",
     "output_type": "error",
     "traceback": [
      "\u001b[0;36m  Cell \u001b[0;32mIn [5], line 6\u001b[0;36m\u001b[0m\n\u001b[0;31m    for i in range(n):\u001b[0m\n\u001b[0m                      ^\u001b[0m\n\u001b[0;31mSyntaxError\u001b[0m\u001b[0;31m:\u001b[0m incomplete input\n"
     ]
    }
   ],
   "source": [
    "def queues(a):\n",
    "    q1 = []\n",
    "    q2 = []\n",
    "    n = len(a)\n",
    "    \n",
    "    for i in range(n):\n",
    "        while q1, q2 and a[i] == a[q1[i + 1]:\n",
    "            q1.pop()\n",
    "            "
   ]
  },
  {
   "cell_type": "markdown",
   "id": "6e09301c-5146-4f74-9cfa-dd4aa3fd9ec4",
   "metadata": {},
   "source": [
    "### Q4. You are given a stack St. You have to reverse the stack using recursion."
   ]
  },
  {
   "cell_type": "code",
   "execution_count": 16,
   "id": "a2c0dccd-6d92-4ebb-bfd8-c5cab44f2519",
   "metadata": {},
   "outputs": [],
   "source": [
    "def reverseStack(st):\n",
    "    if len(st) <= 1:\n",
    "        return st\n",
    "    \n",
    "    topElement = st.pop()\n",
    "    st = reverseStack(st)\n",
    "    st = insertAtBottom(st, topElement)\n",
    "    \n",
    "    return st\n",
    "\n",
    "def insertAtBottom(st, element):\n",
    "    if len(st) == 0:\n",
    "        st.append(element)\n",
    "        return st\n",
    "    \n",
    "    topElement = st.pop()\n",
    "    st = insertAtBottom(st, element)\n",
    "    st.append(topElement)\n",
    "    return st\n",
    "    "
   ]
  },
  {
   "cell_type": "code",
   "execution_count": 18,
   "id": "83527444-3654-435c-8dbd-b11e62cf2368",
   "metadata": {},
   "outputs": [
    {
     "name": "stdout",
     "output_type": "stream",
     "text": [
      "Original Stack: [3, 2, 1, 7, 6]\n",
      "Reversed Stack: [6, 7, 1, 2, 3]\n"
     ]
    }
   ],
   "source": [
    "st = [3,2,1,7,6]\n",
    "print(\"Original Stack:\", st)\n",
    "\n",
    "reversedStack = reverseStack(st)\n",
    "print(\"Reversed Stack:\", reversedStack)"
   ]
  },
  {
   "cell_type": "markdown",
   "id": "c201429c-bad6-412f-b85a-fbb5b7af5201",
   "metadata": {},
   "source": [
    "### Q5. You are given a string S, the task is to reverse the string using stack."
   ]
  },
  {
   "cell_type": "code",
   "execution_count": 1,
   "id": "7a1fafd9-5d7c-4877-ba0b-0cc5704b10cd",
   "metadata": {},
   "outputs": [],
   "source": [
    "def reverseString(s):\n",
    "    stack = []\n",
    "    reversedStr = \" \"\n",
    "    \n",
    "    for char in s:\n",
    "        stack.append(char)\n",
    "        \n",
    "    while stack:\n",
    "        reversedStr += stack.pop()\n",
    "   \n",
    "    return reversedStr"
   ]
  },
  {
   "cell_type": "code",
   "execution_count": 3,
   "id": "a48a4843-a30f-4e37-aae1-1385eefa5672",
   "metadata": {},
   "outputs": [
    {
     "name": "stdout",
     "output_type": "stream",
     "text": [
      " skeeGrofskeeG\n"
     ]
    }
   ],
   "source": [
    "s=\"GeeksforGeeks\"\n",
    "print(reverseString(s))"
   ]
  },
  {
   "cell_type": "markdown",
   "id": "2e2a406d-65b4-489e-89d8-440cfe8b764f",
   "metadata": {},
   "source": [
    "### Q6. Given string S representing a postfix expression, the task is to evaluate the expression and find the final value. Operators will only include the basic arithmetic operators like *, /, + and -."
   ]
  },
  {
   "cell_type": "code",
   "execution_count": 7,
   "id": "b44bdf05-8f53-484f-a83c-a22e77cffe32",
   "metadata": {},
   "outputs": [],
   "source": [
    "def expressionPostfix(S):\n",
    "    stack = []\n",
    "    \n",
    "    for char in S:\n",
    "        if char.isdigit():\n",
    "            stack.append(int(char))\n",
    "        else:\n",
    "            operand2 = stack.pop()\n",
    "            operand1 = stack.pop()\n",
    "            \n",
    "            if char == '+':\n",
    "                result = operand1 + operand2\n",
    "            \n",
    "            elif char == '*':\n",
    "                result = operand1 * operand2\n",
    "            \n",
    "            elif char == '-':\n",
    "                result = operand1 - operand2\n",
    "            \n",
    "            elif char == '/':\n",
    "                result = operand1 / operand2\n",
    "            \n",
    "            stack.append(result)\n",
    "        \n",
    "    return stack.pop()    "
   ]
  },
  {
   "cell_type": "code",
   "execution_count": 8,
   "id": "1dfefe56-bf2f-4fc7-b942-1351801b5e07",
   "metadata": {},
   "outputs": [
    {
     "name": "stdout",
     "output_type": "stream",
     "text": [
      "-4\n"
     ]
    }
   ],
   "source": [
    "S = \"231*+9-\"\n",
    "print(expressionPostfix(S))"
   ]
  },
  {
   "cell_type": "markdown",
   "id": "c2574b49-61fa-49fd-a6bc-ab445c49bcd9",
   "metadata": {},
   "source": [
    "### Q7. Design a stack that supports push, pop, top, and retrieving the minimum element in constant time.\n",
    "Implement the `MinStack` class:\n",
    "\n",
    "- `MinStack()` initializes the stack object.\n",
    "- `void push(int val)` pushes the element `val` onto the stack.\n",
    "- `void pop()` removes the element on the top of the stack.\n",
    "- `int top()` gets the top element of the stack.\n",
    "- `int getMin()` retrieves the minimum element in the stack.\n",
    "You must implement a solution with `O(1)` time complexity for each function."
   ]
  },
  {
   "cell_type": "code",
   "execution_count": 21,
   "id": "7889064e-6fdc-4070-9497-baeb05b8bf19",
   "metadata": {},
   "outputs": [
    {
     "name": "stdout",
     "output_type": "stream",
     "text": [
      "[None, None, None, None, -3, None, 0, -2]\n"
     ]
    }
   ],
   "source": [
    "class minstack:\n",
    "    def __init__ (self):\n",
    "        self.stack = []\n",
    "        self.min_stack = []\n",
    "        \n",
    "    def push(self, val):\n",
    "        self.stack.append(val)\n",
    "        \n",
    "        if not self.min_stack or val <= self.min_stack[-1][0]:\n",
    "            self.min_stack.append((val, len(self.stack) - 1))\n",
    "     \n",
    "    def pop(self):\n",
    "        if self.stack:\n",
    "            val = self.stack.pop()\n",
    "            \n",
    "            if self.min_stack and len(self.stack) == self.min_stack[-1][-1]:\n",
    "                val = self.min_stack.pop()\n",
    "    \n",
    "    def top(self):\n",
    "        if self.stack:\n",
    "            return self.stack[-1]\n",
    "        \n",
    "    def getMin(self):\n",
    "        if self.min_stack:\n",
    "            return self.min_stack[-1][0]\n",
    "        \n",
    "        \n",
    "minstack = minstack()\n",
    "minstack.push(-2)\n",
    "minstack.push(0)\n",
    "minstack.push(-3)\n",
    "\n",
    "output = [\n",
    "    None,\n",
    "    None,\n",
    "    None,\n",
    "    None,\n",
    "    minstack.getMin(),  # -3\n",
    "    minstack.pop(),\n",
    "    minstack.top(),     # 0\n",
    "    minstack.getMin(),  # -2\n",
    "]\n",
    "\n",
    "print(output)"
   ]
  },
  {
   "cell_type": "markdown",
   "id": "789aa163-a9f3-4c9f-8aa9-f83a434cadfc",
   "metadata": {},
   "source": [
    "### Q8. Given n non-negative integers representing an elevation map where the width of each bar is 1, compute how much water it can trap after raining."
   ]
  },
  {
   "cell_type": "code",
   "execution_count": 27,
   "id": "076fbf62-b755-4f23-b9a6-bcbf51fa5b87",
   "metadata": {},
   "outputs": [],
   "source": [
    "def waterStorage(height):\n",
    "    stack = []\n",
    "    left = 0\n",
    "    right = len(height) - 1\n",
    "    left_max = 0\n",
    "    right_max= 0\n",
    "    total_water = 0\n",
    "    \n",
    "    while left <= right:\n",
    "        if height[left] <= height[right]:\n",
    "            left_max = max(left_max, height[left])\n",
    "            total_water += left_max - height[left]\n",
    "            left += 1\n",
    "            \n",
    "        else:\n",
    "            right_max = max(right_max, height[right])\n",
    "            total_water += right_max - height[right]\n",
    "            right -= 1\n",
    "            \n",
    "    return total_water"
   ]
  },
  {
   "cell_type": "code",
   "execution_count": 28,
   "id": "71ebc7fa-6e70-4416-9654-4acccb187f97",
   "metadata": {},
   "outputs": [
    {
     "name": "stdout",
     "output_type": "stream",
     "text": [
      "6\n"
     ]
    }
   ],
   "source": [
    "height = [0,1,0,2,1,0,1,3,2,1,2,1]\n",
    "print(waterStorage(height))"
   ]
  },
  {
   "cell_type": "code",
   "execution_count": null,
   "id": "58e82ba9-4626-4f0e-92f4-26b706566f80",
   "metadata": {},
   "outputs": [],
   "source": []
  }
 ],
 "metadata": {
  "kernelspec": {
   "display_name": "Python 3 (ipykernel)",
   "language": "python",
   "name": "python3"
  },
  "language_info": {
   "codemirror_mode": {
    "name": "ipython",
    "version": 3
   },
   "file_extension": ".py",
   "mimetype": "text/x-python",
   "name": "python",
   "nbconvert_exporter": "python",
   "pygments_lexer": "ipython3",
   "version": "3.10.6"
  }
 },
 "nbformat": 4,
 "nbformat_minor": 5
}
