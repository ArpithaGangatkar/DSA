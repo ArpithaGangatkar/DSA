{
 "cells": [
  {
   "cell_type": "markdown",
   "id": "94b062ce-15e3-40e9-aff7-c5cd4155dca5",
   "metadata": {},
   "source": [
    "Given an array of `intervals` where `intervals[i] = [starti, endi]`, merge all overlapping intervals, and return *an array of the non-overlapping intervals that cover all the intervals in the input*."
   ]
  },
  {
   "cell_type": "code",
   "execution_count": 1,
   "id": "e4da4491-6592-4546-9860-be56ccc72252",
   "metadata": {},
   "outputs": [],
   "source": [
    "def mergeIntervals(intervals):\n",
    "    # Sort the intervals based on their start times\n",
    "    intervals.sort(key=lambda x: x[0])\n",
    "\n",
    "    # Initialize the result list with the first interval\n",
    "    merged = [intervals[0]]\n",
    "\n",
    "    # Merge the intervals\n",
    "    for interval in intervals[1:]:\n",
    "        if interval[0] <= merged[-1][1]:\n",
    "            # Overlapping intervals, update the end time\n",
    "            merged[-1][1] = max(merged[-1][1], interval[1])\n",
    "        else:\n",
    "            # Non-overlapping interval, add it to the result\n",
    "            merged.append(interval)\n",
    "\n",
    "    return merged\n"
   ]
  },
  {
   "cell_type": "code",
   "execution_count": 2,
   "id": "fbdcbe29-58a7-4ced-b169-e9a9ce7bc76d",
   "metadata": {},
   "outputs": [
    {
     "name": "stdout",
     "output_type": "stream",
     "text": [
      "[[1, 6], [8, 10], [15, 18]]\n"
     ]
    }
   ],
   "source": [
    "intervals = [[1, 3], [2, 6], [8, 10], [15, 18]]\n",
    "result = mergeIntervals(intervals)\n",
    "print(result)  # Output: [[1, 6], [8, 10], [15, 18]]\n"
   ]
  },
  {
   "cell_type": "markdown",
   "id": "bcabefc8-5406-44bf-a6bd-93b2de37c854",
   "metadata": {},
   "source": [
    "<aside>\n",
    "💡 2. **Sort Colors**\n",
    "\n",
    "Given an array `nums` with `n` objects colored red, white, or blue, sort them **[in-place](https://en.wikipedia.org/wiki/In-place_algorithm)** so that objects of the same color are adjacent, with the colors in the order red, white, and blue.\n",
    "\n",
    "We will use the integers `0`, `1`, and `2` to represent the color red, white, and blue, respectively.\n",
    "\n",
    "You must solve this problem without using the library's sort function.\n",
    "\n",
    "</aside>"
   ]
  },
  {
   "cell_type": "code",
   "execution_count": 3,
   "id": "fcbedb33-9c11-41dc-a3fc-f2e3e605f053",
   "metadata": {},
   "outputs": [],
   "source": [
    "def sortColors(nums):\n",
    "    red_ptr = 0       # Pointer to the rightmost boundary of the red section\n",
    "    blue_ptr = len(nums) - 1   # Pointer to the leftmost boundary of the blue section\n",
    "    i = 0             # Current pointer for iterating through the array\n",
    "\n",
    "    while i <= blue_ptr:\n",
    "        if nums[i] == 0:\n",
    "            # Swap the element with the red section and move the red pointer\n",
    "            nums[i], nums[red_ptr] = nums[red_ptr], nums[i]\n",
    "            red_ptr += 1\n",
    "            i += 1\n",
    "        elif nums[i] == 2:\n",
    "            # Swap the element with the blue section and move the blue pointer\n",
    "            nums[i], nums[blue_ptr] = nums[blue_ptr], nums[i]\n",
    "            blue_ptr -= 1\n",
    "        else:\n",
    "            # Element is already in the white section, move to the next element\n",
    "            i += 1\n"
   ]
  },
  {
   "cell_type": "code",
   "execution_count": 4,
   "id": "dbb2ce4c-0063-4e64-8c4b-3aa36c21bd2c",
   "metadata": {},
   "outputs": [
    {
     "name": "stdout",
     "output_type": "stream",
     "text": [
      "[0, 0, 1, 1, 2, 2]\n"
     ]
    }
   ],
   "source": [
    "nums = [2, 0, 2, 1, 1, 0]\n",
    "sortColors(nums)\n",
    "print(nums)  # Output: [0, 0, 1, 1, 2, 2]\n"
   ]
  },
  {
   "cell_type": "code",
   "execution_count": null,
   "id": "38c76cfe-c727-492e-99b0-59456002a42f",
   "metadata": {},
   "outputs": [],
   "source": [
    "<aside>\n",
    "💡 3. **First Bad Version Solution**\n",
    "\n",
    "You are a product manager and currently leading a team to develop a new product. Unfortunately, the latest version of your product fails the quality check. Since each version is developed based on the previous version, all the versions after a bad version are also bad.\n",
    "\n",
    "Suppose you have `n` versions `[1, 2, ..., n]` and you want to find out the first bad one, which causes all the following ones to be bad.\n",
    "\n",
    "You are given an API `bool isBadVersion(version)` which returns whether `version` is bad. Implement a function to find the first bad version. You should minimize the number of calls to the API.\n",
    "\n",
    "</aside>"
   ]
  },
  {
   "cell_type": "code",
   "execution_count": 6,
   "id": "bec228f5-c71f-4e8d-b3cc-de59c4b642ac",
   "metadata": {},
   "outputs": [],
   "source": [
    "def firstBadVersion(n):\n",
    "    left = 1\n",
    "    right = n\n",
    "    \n",
    "    while left < right:\n",
    "        mid = left + (right - left) // 2\n",
    "        \n",
    "        if isBadVersion(mid):\n",
    "            # Found a bad version, search in the left half\n",
    "            right = mid\n",
    "        else:\n",
    "            # Current version is good, search in the right half\n",
    "            left = mid + 1\n",
    "    \n",
    "    return left\n"
   ]
  },
  {
   "cell_type": "code",
   "execution_count": null,
   "id": "23e55c1b-7269-4c6f-aa6d-a86e2b1dc3dd",
   "metadata": {},
   "outputs": [],
   "source": []
  },
  {
   "cell_type": "markdown",
   "id": "93286838-3f2a-44e9-b5a1-9c52b91da5fe",
   "metadata": {},
   "source": [
    "<aside>\n",
    "💡 4. **Maximum Gap**\n",
    "\n",
    "Given an integer array `nums`, return *the maximum difference between two successive elements in its sorted form*. If the array contains less than two elements, return `0`.\n",
    "\n",
    "You must write an algorithm that runs in linear time and uses linear extra space.\n",
    "\n",
    "</aside>"
   ]
  },
  {
   "cell_type": "code",
   "execution_count": 8,
   "id": "1f02682e-848c-46c4-8d5e-23c47f3aee18",
   "metadata": {},
   "outputs": [],
   "source": [
    "def maximumGap(nums):\n",
    "    if len(nums) < 2:\n",
    "        return 0\n",
    "\n",
    "    # Perform Radix Sort to sort the array\n",
    "    radixSort(nums)\n",
    "\n",
    "    # Find the maximum gap between two successive elements\n",
    "    max_gap = 0\n",
    "    for i in range(1, len(nums)):\n",
    "        max_gap = max(max_gap, nums[i] - nums[i-1])\n",
    "\n",
    "    return max_gap\n",
    "\n",
    "\n",
    "def radixSort(nums):\n",
    "    # Find the maximum element in the array\n",
    "    max_num = max(nums)\n",
    "\n",
    "    # Perform counting sort for each digit\n",
    "    exp = 1\n",
    "    while max_num // exp > 0:\n",
    "        countingSort(nums, exp)\n",
    "        exp *= 10\n",
    "\n",
    "\n",
    "def countingSort(nums, exp):\n",
    "    n = len(nums)\n",
    "    count = [0] * 10\n",
    "    output = [0] * n\n",
    "\n",
    "    # Count the occurrences of each digit\n",
    "    for num in nums:\n",
    "        digit = (num // exp) % 10\n",
    "        count[digit] += 1\n",
    "\n",
    "    # Calculate the cumulative count\n",
    "    for i in range(1, 10):\n",
    "        count[i] += count[i-1]\n",
    "\n",
    "    # Build the sorted output array\n",
    "    for i in range(n-1, -1, -1):\n",
    "        digit = (nums[i] // exp) % 10\n",
    "        output[count[digit]-1] = nums[i]\n",
    "        count[digit] -= 1\n",
    "\n",
    "    # Copy the sorted output back to the original array\n",
    "    for i in range(n):\n",
    "        nums[i] = output[i]\n"
   ]
  },
  {
   "cell_type": "code",
   "execution_count": 9,
   "id": "b5ea7870-53f3-4928-ad5a-1f31bf9a2ce9",
   "metadata": {},
   "outputs": [
    {
     "name": "stdout",
     "output_type": "stream",
     "text": [
      "3\n"
     ]
    }
   ],
   "source": [
    "nums = [9, 5, 3, 1, 12, 7]\n",
    "max_gap = maximumGap(nums)\n",
    "print(max_gap)  # Output: 4\n"
   ]
  },
  {
   "cell_type": "code",
   "execution_count": null,
   "id": "faaf45e1-3a37-4330-a90f-039675eff4d5",
   "metadata": {},
   "outputs": [],
   "source": [
    "<aside>\n",
    "💡 5. **Contains Duplicate**\n",
    "\n",
    "Given an integer array `nums`, return `true` if any value appears **at least twice** in the array, and return `false` if every element is distinct.\n",
    "\n",
    "</aside>"
   ]
  },
  {
   "cell_type": "code",
   "execution_count": 10,
   "id": "d1831ab5-8c84-4adb-86b5-32ac805ede8c",
   "metadata": {},
   "outputs": [],
   "source": [
    "def containsDuplicate(nums):\n",
    "    num_set = set()\n",
    "    for num in nums:\n",
    "        if num in num_set:\n",
    "            return True\n",
    "        num_set.add(num)\n",
    "    return False\n"
   ]
  },
  {
   "cell_type": "code",
   "execution_count": 11,
   "id": "e2fc5d2b-285b-4bf2-867f-386f978a2b8c",
   "metadata": {},
   "outputs": [
    {
     "name": "stdout",
     "output_type": "stream",
     "text": [
      "True\n"
     ]
    }
   ],
   "source": [
    "nums = [1, 2, 3, 1]\n",
    "has_duplicates = containsDuplicate(nums)\n",
    "print(has_duplicates)  # Output: True\n"
   ]
  },
  {
   "cell_type": "markdown",
   "id": "bbea1d0f-2216-4e31-954f-c7827d0b95a6",
   "metadata": {},
   "source": [
    "<aside>\n",
    "💡 6. **Minimum Number of Arrows to Burst Balloons**\n",
    "\n",
    "There are some spherical balloons taped onto a flat wall that represents the XY-plane. The balloons are represented as a 2D integer array `points` where `points[i] = [xstart, xend]` denotes a balloon whose **horizontal diameter** stretches between `xstart` and `xend`. You do not know the exact y-coordinates of the balloons.\n",
    "\n",
    "Arrows can be shot up **directly vertically** (in the positive y-direction) from different points along the x-axis. A balloon with `xstart` and `xend` is **burst** by an arrow shot at `x` if `xstart <= x <= xend`. There is **no limit** to the number of arrows that can be shot. A shot arrow keeps traveling up infinitely, bursting any balloons in its path.\n",
    "\n",
    "Given the array `points`, return *the **minimum** number of arrows that must be shot to burst all balloons*.\n",
    "\n",
    "</aside>"
   ]
  },
  {
   "cell_type": "code",
   "execution_count": 12,
   "id": "d369fcc7-7ec3-4417-abb2-0e48e34cdf4a",
   "metadata": {},
   "outputs": [],
   "source": [
    "def findMinArrowShots(points):\n",
    "    if not points:\n",
    "        return 0\n",
    "\n",
    "    # Sort the balloons based on their end positions\n",
    "    points.sort(key=lambda x: x[1])\n",
    "\n",
    "    arrows = 1  # At least one arrow is needed to burst the first balloon\n",
    "    current_end = points[0][1]\n",
    "\n",
    "    for start, end in points:\n",
    "        if start > current_end:\n",
    "            # Balloon cannot be burst with the current arrow\n",
    "            arrows += 1\n",
    "            current_end = end\n",
    "        else:\n",
    "            # Balloon can be burst with the current arrow\n",
    "            current_end = min(current_end, end)\n",
    "\n",
    "    return arrows\n"
   ]
  },
  {
   "cell_type": "code",
   "execution_count": 13,
   "id": "6134f222-ba33-43d3-80ad-ad5b60ab2163",
   "metadata": {},
   "outputs": [
    {
     "name": "stdout",
     "output_type": "stream",
     "text": [
      "2\n"
     ]
    }
   ],
   "source": [
    "points = [[1, 6], [2, 8], [7, 12], [10, 16]]\n",
    "min_arrows = findMinArrowShots(points)\n",
    "print(min_arrows)  # Output: 2\n"
   ]
  },
  {
   "cell_type": "markdown",
   "id": "9c101ba5-7846-4326-8868-dec64381794a",
   "metadata": {},
   "source": [
    "<aside>\n",
    "💡 7. **Longest Increasing Subsequence**\n",
    "\n",
    "Given an integer array `nums`, return *the length of the longest **strictly increasing***\n",
    "\n",
    "***subsequence***\n",
    "\n",
    "</aside>"
   ]
  },
  {
   "cell_type": "code",
   "execution_count": 14,
   "id": "9cfaecf9-c0ee-49fa-b02e-f53bad5eb038",
   "metadata": {},
   "outputs": [],
   "source": [
    "def lengthOfLIS(nums):\n",
    "    n = len(nums)\n",
    "    if n == 0:\n",
    "        return 0\n",
    "\n",
    "    dp = [1] * n\n",
    "\n",
    "    for i in range(1, n):\n",
    "        for j in range(i):\n",
    "            if nums[i] > nums[j]:\n",
    "                dp[i] = max(dp[i], dp[j] + 1)\n",
    "\n",
    "    return max(dp)\n"
   ]
  },
  {
   "cell_type": "code",
   "execution_count": 15,
   "id": "e07219c8-ff55-40c8-ab25-14e2b093b620",
   "metadata": {},
   "outputs": [
    {
     "name": "stdout",
     "output_type": "stream",
     "text": [
      "4\n"
     ]
    }
   ],
   "source": [
    "nums = [10, 9, 2, 5, 3, 7, 101, 18]\n",
    "length = lengthOfLIS(nums)\n",
    "print(length)  # Output: 4\n"
   ]
  },
  {
   "cell_type": "markdown",
   "id": "b47a70f9-69e1-45c2-9742-00e58f2cd550",
   "metadata": {},
   "source": [
    "<aside>\n",
    "💡 8. **132 Pattern**\n",
    "\n",
    "Given an array of `n` integers `nums`, a **132 pattern** is a subsequence of three integers `nums[i]`, `nums[j]` and `nums[k]` such that `i < j < k` and `nums[i] < nums[k] < nums[j]`.\n",
    "\n",
    "Return `true` *if there is a **132 pattern** in* `nums`*, otherwise, return* `false`*.*\n",
    "\n",
    "</aside>"
   ]
  },
  {
   "cell_type": "code",
   "execution_count": 16,
   "id": "df9eee7a-ae67-4d66-9783-9eb6bdd084a8",
   "metadata": {},
   "outputs": [],
   "source": [
    "def find132pattern(nums):\n",
    "    n = len(nums)\n",
    "    if n < 3:\n",
    "        return False\n",
    "\n",
    "    stack = []\n",
    "    max_value = float('-inf')\n",
    "\n",
    "    for i in range(n - 1, -1, -1):\n",
    "        if nums[i] < max_value:\n",
    "            # Found a potential \"1\" value (nums[i])\n",
    "            while stack and stack[-1] <= nums[i]:\n",
    "                # Pop elements until we find a \"3\" value\n",
    "                stack.pop()\n",
    "                if stack and stack[-1] < nums[i]:\n",
    "                    return True\n",
    "            stack.append(nums[i])\n",
    "        else:\n",
    "            # Update the maximum value\n",
    "            max_value = nums[i]\n",
    "\n",
    "    return False\n",
    "\n"
   ]
  },
  {
   "cell_type": "code",
   "execution_count": 17,
   "id": "9203acd0-68e9-46da-bfa4-587154c7b323",
   "metadata": {},
   "outputs": [
    {
     "name": "stdout",
     "output_type": "stream",
     "text": [
      "False\n"
     ]
    }
   ],
   "source": [
    "nums = [3, 1, 4, 2]\n",
    "has_pattern = find132pattern(nums)\n",
    "print(has_pattern)  # Output: True\n"
   ]
  },
  {
   "cell_type": "code",
   "execution_count": null,
   "id": "87fc6b09-809c-4f82-8c6a-209d99c1afae",
   "metadata": {},
   "outputs": [],
   "source": []
  }
 ],
 "metadata": {
  "kernelspec": {
   "display_name": "Python 3 (ipykernel)",
   "language": "python",
   "name": "python3"
  },
  "language_info": {
   "codemirror_mode": {
    "name": "ipython",
    "version": 3
   },
   "file_extension": ".py",
   "mimetype": "text/x-python",
   "name": "python",
   "nbconvert_exporter": "python",
   "pygments_lexer": "ipython3",
   "version": "3.10.6"
  }
 },
 "nbformat": 4,
 "nbformat_minor": 5
}
