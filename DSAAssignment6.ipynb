{
 "cells": [
  {
   "cell_type": "markdown",
   "id": "f4927e4b-151a-44ee-98d7-c25b94fbc914",
   "metadata": {},
   "source": [
    "💡 **Question 1**\n",
    "\n",
    "A permutation perm of n + 1 integers of all the integers in the range [0, n] can be represented as a string s of length n where:\n",
    "\n",
    "- s[i] == 'I' if perm[i] < perm[i + 1], and\n",
    "- s[i] == 'D' if perm[i] > perm[i + 1].\n",
    "\n",
    "Given a string s, reconstruct the permutation perm and return it. If there are multiple valid permutations perm, return **any of them**.\n",
    "\n",
    "**Example 1:**\n",
    "\n",
    "**Input:** s = \"IDID\"\n",
    "\n",
    "**Output:**\n",
    "\n",
    "[0,4,1,3,2]"
   ]
  },
  {
   "cell_type": "code",
   "execution_count": 32,
   "id": "66f8f5d6-2574-45a2-a5cb-eb109103f4ca",
   "metadata": {},
   "outputs": [],
   "source": [
    "def reconstruct_permutation(s):\n",
    "    perm = []\n",
    "    low = 0\n",
    "    high = len(s)\n",
    "\n",
    "    for ch in s:\n",
    "        if ch == 'I':\n",
    "            perm.append(low)\n",
    "            low += 1\n",
    "        elif ch == 'D':\n",
    "            perm.append(high)\n",
    "            high -= 1\n",
    "\n",
    "    # Append either low or high to perm (they would have the same value)\n",
    "    perm.append(low)\n",
    "\n",
    "    return perm\n"
   ]
  },
  {
   "cell_type": "code",
   "execution_count": 33,
   "id": "d0ae6779-6f35-4660-be2c-da3ce15e6b29",
   "metadata": {},
   "outputs": [
    {
     "name": "stdout",
     "output_type": "stream",
     "text": [
      "[0, 4, 1, 3, 2]\n"
     ]
    }
   ],
   "source": [
    "s = \"IDID\"\n",
    "result = reconstruct_permutation(s)\n",
    "print(result)"
   ]
  },
  {
   "cell_type": "markdown",
   "id": "e7521ab5-46f1-41f8-9ec2-fccb65402c2b",
   "metadata": {},
   "source": [
    "<aside>\n",
    "💡 **Question 2**\n",
    "\n",
    "You are given an m x n integer matrix matrix with the following two properties:\n",
    "\n",
    "- Each row is sorted in non-decreasing order.\n",
    "- The first integer of each row is greater than the last integer of the previous row.\n",
    "\n",
    "Given an integer target, return true *if* target *is in* matrix *or* false *otherwise*.\n",
    "\n",
    "You must write a solution in O(log(m * n)) time complexity.\n",
    "\n",
    "</aside>"
   ]
  },
  {
   "cell_type": "code",
   "execution_count": 9,
   "id": "467266a2-2675-4a30-a46a-c4e2f26d62e4",
   "metadata": {},
   "outputs": [],
   "source": [
    "def target(nums,target):\n",
    "    m=len(nums)\n",
    "    n=len(nums[0])\n",
    "    \n",
    "    row=-1\n",
    "    for i in range (0,n-1):\n",
    "        \n",
    "        if nums[i][0] <= target <= nums[i][n-1]:\n",
    "            row=i\n",
    "            \n",
    "            break\n",
    "        else:\n",
    "            continue\n",
    "            \n",
    "    if row==-1:\n",
    "        return False\n",
    "    else:\n",
    "        l=0\n",
    "        r=n-1\n",
    "        while l<r:\n",
    "            m=l+r//2\n",
    "            if nums[row][m]==target:\n",
    "                return True\n",
    "            elif nums[row][m]<target:\n",
    "                l=m+1\n",
    "            elif nums[row][m]>target:\n",
    "                r=m-1\n",
    "        else:\n",
    "            return False\n",
    "                \n",
    "            \n",
    "                "
   ]
  },
  {
   "cell_type": "code",
   "execution_count": 11,
   "id": "1e7543d9-d7d8-488c-ba2d-e9ee653d2804",
   "metadata": {},
   "outputs": [
    {
     "name": "stdout",
     "output_type": "stream",
     "text": [
      "2\n"
     ]
    },
    {
     "data": {
      "text/plain": [
       "False"
      ]
     },
     "execution_count": 11,
     "metadata": {},
     "output_type": "execute_result"
    }
   ],
   "source": [
    "target([[1,3,5,7],[10,11,16,20],[23,30,34,60]],31)"
   ]
  },
  {
   "cell_type": "markdown",
   "id": "25f91883-a780-46f1-90fc-793ae4f282ca",
   "metadata": {},
   "source": [
    "<aside>\n",
    "💡 **Question 3**\n",
    "\n",
    "Given an array of integers arr, return *true if and only if it is a valid mountain array*.\n",
    "\n",
    "Recall that arr is a mountain array if and only if:\n",
    "\n",
    "- arr.length >= 3\n",
    "- There exists some i with 0 < i < arr.length - 1 such that:\n",
    "    - arr[0] < arr[1] < ... < arr[i - 1] < arr[i]\n",
    "    - arr[i] > arr[i + 1] > ... > arr[arr.length - 1]\n",
    "</aside>"
   ]
  },
  {
   "cell_type": "code",
   "execution_count": 1,
   "id": "9f8ec0e7-c4b4-433d-9ae2-ad22b715abf0",
   "metadata": {},
   "outputs": [],
   "source": [
    "def valid_mountain_array(arr):\n",
    "    n = len(arr)\n",
    "    \n",
    "    if n < 3:\n",
    "        return False\n",
    "    \n",
    "    # Find the peak element\n",
    "    peak_index = 0\n",
    "    while peak_index < n - 1 and arr[peak_index] < arr[peak_index + 1]:\n",
    "        peak_index += 1\n",
    "    \n",
    "    # Check if peak is not the first or last element\n",
    "    if peak_index == 0 or peak_index == n - 1:\n",
    "        return False\n",
    "    \n",
    "    # Check for decreasing values after the peak\n",
    "    while peak_index < n - 1 and arr[peak_index] > arr[peak_index + 1]:\n",
    "        peak_index += 1\n",
    "    \n",
    "    return peak_index == n - 1\n",
    "\n",
    "                "
   ]
  },
  {
   "cell_type": "code",
   "execution_count": 2,
   "id": "01428909-784b-4624-b6f9-893289ffabf4",
   "metadata": {},
   "outputs": [
    {
     "data": {
      "text/plain": [
       "True"
      ]
     },
     "execution_count": 2,
     "metadata": {},
     "output_type": "execute_result"
    }
   ],
   "source": [
    "valid_mountain_array([0,2,3,4,5,2,1,0])"
   ]
  },
  {
   "cell_type": "markdown",
   "id": "10e18b58-b6f7-40b5-bba1-6cb1ae9df6fc",
   "metadata": {},
   "source": [
    "<aside>\n",
    "💡 **Question 4**\n",
    "\n",
    "Given a binary array nums, return *the maximum length of a contiguous subarray with an equal number of* 0 *and* 1.\n",
    "\n",
    "**Example 1:**\n",
    "\n",
    "**Input:** nums = [0,1]\n",
    "\n",
    "**Output:** 2\n",
    "\n",
    "**Explanation:**\n",
    "\n",
    "[0, 1] is the longest contiguous subarray with an equal number of 0 and 1.\n",
    "\n",
    "</aside>"
   ]
  },
  {
   "cell_type": "code",
   "execution_count": 11,
   "id": "c73c75a8-7742-4901-a31a-3c4312aab6ab",
   "metadata": {},
   "outputs": [],
   "source": [
    "def max_length(nums):\n",
    "    count_map={0: -1}\n",
    "    max_length=0\n",
    "    count=0\n",
    "    \n",
    "    for i,num in enumerate(nums):\n",
    "        if num==1:\n",
    "            count+=1\n",
    "        else:\n",
    "            count-=1\n",
    "        \n",
    "        if count in count_map:\n",
    "            \n",
    "            max_length = max(max_length ,i - count_map[count])\n",
    "            \n",
    "        else:\n",
    "            \n",
    "            count_map[count] = i\n",
    "            \n",
    "    return max_length\n",
    "        "
   ]
  },
  {
   "cell_type": "code",
   "execution_count": 12,
   "id": "bbaa8965-7f0c-4f8e-a1f5-e9d825f38b64",
   "metadata": {},
   "outputs": [
    {
     "name": "stdout",
     "output_type": "stream",
     "text": [
      "6\n"
     ]
    }
   ],
   "source": [
    "nums = [0,0,0,1,1,0,1]\n",
    "max_length = max_length(nums)\n",
    "print(max_length)  # Output: 2\n"
   ]
  },
  {
   "cell_type": "markdown",
   "id": "30168409-e385-4e17-9730-fe5ceb5acd9a",
   "metadata": {},
   "source": [
    "<aside>\n",
    "💡 **Question 5**\n",
    "\n",
    "The **product sum** of two equal-length arrays a and b is equal to the sum of a[i] * b[i] for all 0 <= i < a.length (**0-indexed**).\n",
    "\n",
    "- For example, if a = [1,2,3,4] and b = [5,2,3,1], the **product sum** would be 1*5 + 2*2 + 3*3 + 4*1 = 22.\n",
    "\n",
    "Given two arrays nums1 and nums2 of length n, return *the **minimum product sum** if you are allowed to **rearrange** the **order** of the elements in* nums1.\n",
    "\n",
    "**Example 1:**\n",
    "\n",
    "**Input:** nums1 = [5,3,4,2], nums2 = [4,2,2,5]\n",
    "\n",
    "**Output:** 40\n",
    "\n",
    "**Explanation:**\n",
    "\n",
    "We can rearrange nums1 to become [3,5,4,2]. The product sum of [3,5,4,2] and [4,2,2,5] is 3*4 + 5*2 + 4*2 + 2*5 = 40.\n",
    "\n",
    "</aside>"
   ]
  },
  {
   "cell_type": "code",
   "execution_count": 21,
   "id": "58dc9cd5-1267-4ab3-9ee2-37fe6de3ff57",
   "metadata": {},
   "outputs": [],
   "source": [
    "def max_product(nums1,nums2):\n",
    "    nums1.sort()\n",
    "    nums2.sort()\n",
    "    mp=0\n",
    "    n=len(nums1)\n",
    "    \n",
    "    for i in range (0 ,len(nums1)):\n",
    "        \n",
    "        p= nums1[i]*nums2[n-1-i]\n",
    "        \n",
    "        mp=mp+p\n",
    "    return mp"
   ]
  },
  {
   "cell_type": "code",
   "execution_count": 22,
   "id": "77f2ea81-d26d-4c61-a746-ef1f0deb0adc",
   "metadata": {},
   "outputs": [
    {
     "data": {
      "text/plain": [
       "40"
      ]
     },
     "execution_count": 22,
     "metadata": {},
     "output_type": "execute_result"
    }
   ],
   "source": [
    "max_product( [5,3,4,2] ,[4,2,2,5])"
   ]
  },
  {
   "cell_type": "markdown",
   "id": "ea2c2a1b-876c-4b55-9534-b8d51ff7b653",
   "metadata": {},
   "source": [
    "<aside>\n",
    "💡 **Question 6**\n",
    "\n",
    "An integer array original is transformed into a **doubled** array changed by appending **twice the value** of every element in original, and then randomly **shuffling** the resulting array.\n",
    "\n",
    "Given an array changed, return original *if* changed *is a **doubled** array. If* changed *is not a **doubled** array, return an empty array. The elements in* original *may be returned in **any** order*.\n",
    "\n",
    "**Example 1:**\n",
    "\n",
    "**Input:** changed = [1,3,4,2,6,8]\n",
    "\n",
    "**Output:** [1,3,4]\n",
    "\n",
    "**Explanation:** One possible original array could be [1,3,4]:\n",
    "\n",
    "- Twice the value of 1 is 1 * 2 = 2.\n",
    "- Twice the value of 3 is 3 * 2 = 6.\n",
    "- Twice the value of 4 is 4 * 2 = 8.\n",
    "\n",
    "Other original arrays could be [4,3,1] or [3,1,4].\n",
    "\n",
    "</aside>"
   ]
  },
  {
   "cell_type": "code",
   "execution_count": 23,
   "id": "07193a08-75bf-4581-82a0-9c6ce802508a",
   "metadata": {},
   "outputs": [],
   "source": [
    "def findOriginalArray(changed):\n",
    "    if len(changed) % 2 != 0:\n",
    "        return []\n",
    "    \n",
    "    original = []\n",
    "    counter = {}\n",
    "    \n",
    "    for num in changed:\n",
    "        if num in counter and counter[num] > 0:\n",
    "            counter[num] -= 1\n",
    "            original.append(num // 2)\n",
    "        else:\n",
    "            double_num = num * 2\n",
    "            if double_num not in counter:\n",
    "                counter[double_num] = 0\n",
    "            counter[double_num] += 1\n",
    "    \n",
    "    return original if set(original) <= set(changed) else []"
   ]
  },
  {
   "cell_type": "code",
   "execution_count": 24,
   "id": "7a48be7b-d3ae-4d59-aeaa-b943cd7c1c14",
   "metadata": {},
   "outputs": [
    {
     "data": {
      "text/plain": [
       "[1, 3, 4]"
      ]
     },
     "execution_count": 24,
     "metadata": {},
     "output_type": "execute_result"
    }
   ],
   "source": [
    "findOriginalArray( [1,3,4,2,6,8])"
   ]
  },
  {
   "cell_type": "markdown",
   "id": "8b16b4d1-47b4-4ed6-92c7-9204236693ee",
   "metadata": {},
   "source": [
    "<aside>\n",
    "💡 **Question 7**\n",
    "\n",
    "Given a positive integer n, generate an n x n matrix filled with elements from 1 to n2 in spiral order.\n",
    "\n",
    "**Example 1:**\n",
    "\n",
    "</aside>"
   ]
  },
  {
   "cell_type": "code",
   "execution_count": 26,
   "id": "aedbc68e-e7d2-46fc-8992-c7b0343f7cb2",
   "metadata": {},
   "outputs": [],
   "source": [
    "def generate_spiral_matrix(n):\n",
    "    matrix = [[0] * n for _ in range(n)]\n",
    "    top, bottom, left, right = 0, n - 1, 0, n - 1\n",
    "    num = 1\n",
    "\n",
    "    while num <= n * n:\n",
    "        for i in range(left, right + 1):\n",
    "            matrix[top][i] = num\n",
    "            num += 1\n",
    "        top += 1\n",
    "\n",
    "        for i in range(top, bottom + 1):\n",
    "            matrix[i][right] = num\n",
    "            num += 1\n",
    "        right -= 1\n",
    "\n",
    "        for i in range(right, left - 1, -1):\n",
    "            matrix[bottom][i] = num\n",
    "            num += 1\n",
    "        bottom -= 1\n",
    "\n",
    "        for i in range(bottom, top - 1, -1):\n",
    "            matrix[i][left] = num\n",
    "            num += 1\n",
    "        left += 1\n",
    "\n",
    "    return matrix\n"
   ]
  },
  {
   "cell_type": "code",
   "execution_count": 27,
   "id": "dc5cc340-afb9-4645-9c28-bc4771a48ab4",
   "metadata": {},
   "outputs": [
    {
     "name": "stdout",
     "output_type": "stream",
     "text": [
      "[1, 2, 3, 4]\n",
      "[12, 13, 14, 5]\n",
      "[11, 16, 15, 6]\n",
      "[10, 9, 8, 7]\n"
     ]
    }
   ],
   "source": [
    "n = 4\n",
    "result = generate_spiral_matrix(n)\n",
    "for row in result:\n",
    "    print(row)\n",
    "\n",
    "    "
   ]
  },
  {
   "cell_type": "markdown",
   "id": "f92fd824-7a67-460e-a275-28e7733b2a86",
   "metadata": {},
   "source": [
    "<aside>\n",
    "💡 **Question 8**\n",
    "\n",
    "Given two [sparse matrices](https://en.wikipedia.org/wiki/Sparse_matrix) mat1 of size m x k and mat2 of size k x n, return the result of mat1 x mat2. You may assume that multiplication is always possible.\n",
    "\n",
    "**Example 1:**\n",
    "\n",
    "</aside>"
   ]
  },
  {
   "cell_type": "code",
   "execution_count": 28,
   "id": "dba2a28b-8491-45b8-8b93-79277cfab4cb",
   "metadata": {},
   "outputs": [],
   "source": [
    "def multiply_sparse_matrices(mat1, mat2):\n",
    "    m = len(mat1)\n",
    "    k = len(mat1[0])\n",
    "    n = len(mat2[0])\n",
    "\n",
    "    result = [[0] * n for _ in range(m)]\n",
    "\n",
    "    for i in range(m):\n",
    "        for j in range(n):\n",
    "            dot_product = 0\n",
    "            for l in range(k):\n",
    "                dot_product += mat1[i][l] * mat2[l][j]\n",
    "            result[i][j] = dot_product\n",
    "\n",
    "    return result\n"
   ]
  },
  {
   "cell_type": "code",
   "execution_count": 30,
   "id": "f7366f04-d12a-47ba-9258-dfa20199892d",
   "metadata": {},
   "outputs": [],
   "source": [
    " mat1 = [[1,0,0],[-1,0,3]]\n",
    "mat2 = [[7,0,0],[0,0,0],[0,0,1]]"
   ]
  },
  {
   "cell_type": "code",
   "execution_count": 31,
   "id": "219c5c93-cb9c-4b2a-b396-9c768efe9bb1",
   "metadata": {},
   "outputs": [
    {
     "data": {
      "text/plain": [
       "[[7, 0, 0], [-7, 0, 3]]"
      ]
     },
     "execution_count": 31,
     "metadata": {},
     "output_type": "execute_result"
    }
   ],
   "source": [
    "multiply_sparse_matrices(mat1,mat2)"
   ]
  },
  {
   "cell_type": "code",
   "execution_count": null,
   "id": "5b3e760a-721e-409c-8d39-992cc8acb87f",
   "metadata": {},
   "outputs": [],
   "source": []
  }
 ],
 "metadata": {
  "kernelspec": {
   "display_name": "Python 3 (ipykernel)",
   "language": "python",
   "name": "python3"
  },
  "language_info": {
   "codemirror_mode": {
    "name": "ipython",
    "version": 3
   },
   "file_extension": ".py",
   "mimetype": "text/x-python",
   "name": "python",
   "nbconvert_exporter": "python",
   "pygments_lexer": "ipython3",
   "version": "3.10.6"
  }
 },
 "nbformat": 4,
 "nbformat_minor": 5
}
