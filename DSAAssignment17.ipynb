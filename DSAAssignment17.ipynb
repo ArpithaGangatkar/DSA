{
 "cells": [
  {
   "cell_type": "markdown",
   "id": "6b4a9992-27ed-4dff-9352-1c786ea61154",
   "metadata": {},
   "source": [
    "<aside>\n",
    "💡 **Question 1**\n",
    "\n",
    "Given a string `s`, *find the first non-repeating character in it and return its index*. If it does not exist, return `-1`.\n",
    "    Input: s = \"leetcode\"\n",
    "Output: 0\n",
    "\n",
    "\n",
    "</aside>"
   ]
  },
  {
   "cell_type": "code",
   "execution_count": 25,
   "id": "65963495-af99-4329-b9ea-b466afa34570",
   "metadata": {},
   "outputs": [],
   "source": [
    "def firstelementindex(s):\n",
    "    freq={}\n",
    "    \n",
    "    for char in s:\n",
    "        freq[char]=freq.get(char,0)+1\n",
    "    print(freq)\n",
    "        \n",
    "    for k in freq:\n",
    "        if freq[k]==1:\n",
    "            return s.index(k)\n",
    "    return -1\n",
    "            \n",
    "        "
   ]
  },
  {
   "cell_type": "code",
   "execution_count": 28,
   "id": "d203b3a2-ab88-40d9-b74a-41c128a08d99",
   "metadata": {},
   "outputs": [
    {
     "name": "stdout",
     "output_type": "stream",
     "text": [
      "{'a': 2, 'b': 2}\n"
     ]
    },
    {
     "data": {
      "text/plain": [
       "-1"
      ]
     },
     "execution_count": 28,
     "metadata": {},
     "output_type": "execute_result"
    }
   ],
   "source": [
    "firstelementindex('aabb')"
   ]
  },
  {
   "cell_type": "markdown",
   "id": "06d1db30-a367-47ab-9bd7-3cc6795e5971",
   "metadata": {},
   "source": [
    "<aside>\n",
    "💡 **Question 2**\n",
    "\n",
    "Given a **circular integer array** `nums` of length `n`, return *the maximum possible sum of a non-empty **subarray** of* `nums`.\n",
    "\n",
    "A **circular array** means the end of the array connects to the beginning of the array. Formally, the next element of `nums[i]` is `nums[(i + 1) % n]` and the previous element of `nums[i]` is `nums[(i - 1 + n) % n]`.\n",
    "\n",
    "A **subarray** may only include each element of the fixed buffer `nums` at most once. Formally, for a subarray `nums[i], nums[i + 1], ..., nums[j]`, there does not exist `i <= k1`, `k2 <= j` with `k1 % n == k2 % n`.\n",
    "\n",
    "</aside>"
   ]
  },
  {
   "cell_type": "code",
   "execution_count": 29,
   "id": "6e66bab9-2c70-4058-9259-6f7d08c987bc",
   "metadata": {},
   "outputs": [
    {
     "name": "stdout",
     "output_type": "stream",
     "text": [
      "3\n"
     ]
    }
   ],
   "source": [
    "def kadane(nums):\n",
    "    current_max = nums[0]\n",
    "    max_sum = nums[0]\n",
    "    n = len(nums)\n",
    "    \n",
    "    # Find maximum sum of a subarray in linear array\n",
    "    for i in range(1, n):\n",
    "        current_max = max(nums[i], current_max + nums[i])\n",
    "        max_sum = max(max_sum, current_max)\n",
    "    \n",
    "    return max_sum\n",
    "\n",
    "def maxSubarraySumCircular(nums):\n",
    "    n = len(nums)\n",
    "    \n",
    "    # Case 1: Maximum sum is in a non-circular subarray\n",
    "    max_linear_sum = kadane(nums)\n",
    "    \n",
    "    # Case 2: Maximum sum is in a circular subarray\n",
    "    total_sum = sum(nums)\n",
    "    \n",
    "    # Invert the signs of all elements and find minimum sum subarray\n",
    "    for i in range(n):\n",
    "        nums[i] = -nums[i]\n",
    "    \n",
    "    max_circular_sum = total_sum + kadane(nums)\n",
    "    \n",
    "    # Check if all elements are negative (no positive elements)\n",
    "    if max_circular_sum == 0:\n",
    "        return max_linear_sum\n",
    "    \n",
    "    return max(max_linear_sum, max_circular_sum)\n",
    "\n",
    "# Example usage\n",
    "nums = [1, -2, 3, -2]\n",
    "result = maxSubarraySumCircular(nums)\n",
    "print(result)  # Output: 3\n"
   ]
  },
  {
   "cell_type": "markdown",
   "id": "d95fab6b-0056-4403-831e-347208f8bd7e",
   "metadata": {},
   "source": [
    "<aside>\n",
    "💡 **Question 3**\n",
    "\n",
    "The school cafeteria offers circular and square sandwiches at lunch break, referred to by numbers `0` and `1` respectively. All students stand in a queue. Each student either prefers square or circular sandwiches.\n",
    "\n",
    "The number of sandwiches in the cafeteria is equal to the number of students. The sandwiches are placed in a **stack**. At each step:\n",
    "\n",
    "- If the student at the front of the queue **prefers** the sandwich on the top of the stack, they will **take it** and leave the queue.\n",
    "- Otherwise, they will **leave it** and go to the queue's end.\n",
    "\n",
    "This continues until none of the queue students want to take the top sandwich and are thus unable to eat.\n",
    "\n",
    "You are given two integer arrays `students` and `sandwiches` where `sandwiches[i]` is the type of the `ith` sandwich in the stack (`i = 0` is the top of the stack) and `students[j]` is the preference of the `jth` student in the initial queue (`j = 0` is the front of the queue). Return *the number of students that are unable to eat.*\n",
    "\n",
    "</aside>"
   ]
  },
  {
   "cell_type": "code",
   "execution_count": 31,
   "id": "b190860b-e596-4283-b37b-dc38163a0cbd",
   "metadata": {},
   "outputs": [],
   "source": [
    "def countStudents( students, sandwiches) :\n",
    "\n",
    "        while sandwiches:\n",
    "            if sandwiches[0] in students:\n",
    "                if sandwiches[0]==students[0]:\n",
    "                    sandwiches.pop(0)\n",
    "                    students.pop(0)\n",
    "                else:\n",
    "                    students.append(students.pop(0))\n",
    "            else:\n",
    "                break\n",
    "                \n",
    "        return len(students)"
   ]
  },
  {
   "cell_type": "code",
   "execution_count": 32,
   "id": "70bc500e-deb5-463f-b709-edce09735bac",
   "metadata": {},
   "outputs": [
    {
     "data": {
      "text/plain": [
       "3"
      ]
     },
     "execution_count": 32,
     "metadata": {},
     "output_type": "execute_result"
    }
   ],
   "source": [
    "countStudents([1,1,1,0,0,1],[1,0,0,0,1,1])"
   ]
  },
  {
   "cell_type": "markdown",
   "id": "ab0ab4d9-0edd-494e-9333-9c4f5f1ea3fe",
   "metadata": {},
   "source": [
    "<aside>\n",
    "💡 **Question 4**\n",
    "\n",
    "You have a `RecentCounter` class which counts the number of recent requests within a certain time frame.\n",
    "\n",
    "Implement the `RecentCounter` class:\n",
    "\n",
    "- `RecentCounter()` Initializes the counter with zero recent requests.\n",
    "- `int ping(int t)` Adds a new request at time `t`, where `t` represents some time in milliseconds, and returns the number of requests that has happened in the past `3000` milliseconds (including the new request). Specifically, return the number of requests that have happened in the inclusive range `[t - 3000, t]`.\n",
    "\n",
    "It is **guaranteed** that every call to `ping` uses a strictly larger value of `t` than the previous call.\n",
    "\n",
    "**Example 1:**\n",
    "\n",
    "</aside>"
   ]
  },
  {
   "cell_type": "code",
   "execution_count": 33,
   "id": "fe1607be-cfc0-42e4-86c7-b96e8097c45f",
   "metadata": {},
   "outputs": [
    {
     "name": "stdout",
     "output_type": "stream",
     "text": [
      "1\n",
      "2\n",
      "3\n",
      "4\n"
     ]
    }
   ],
   "source": [
    "from collections import deque\n",
    "\n",
    "class RecentCounter:\n",
    "    def __init__(self):\n",
    "        self.requests = deque()\n",
    "\n",
    "    def ping(self, t: int) -> int:\n",
    "        # Add the new request timestamp\n",
    "        self.requests.append(t)\n",
    "        \n",
    "        # Remove old requests older than t - 3000\n",
    "        while self.requests[0] < t - 3000:\n",
    "            self.requests.popleft()\n",
    "        \n",
    "        # Return the number of requests within the past 3000 milliseconds\n",
    "        return len(self.requests)\n",
    "\n",
    "# Example usage\n",
    "rc = RecentCounter()\n",
    "print(rc.ping(100))    # Output: 1\n",
    "print(rc.ping(300))    # Output: 2\n",
    "print(rc.ping(3001))   # Output: 3\n",
    "print(rc.ping(3002))   # Output: 3\n"
   ]
  },
  {
   "cell_type": "markdown",
   "id": "6f8013d4-1731-45d8-a492-f5c77c66c15e",
   "metadata": {},
   "source": [
    "<aside>\n",
    "💡 **Question 5**\n",
    "\n",
    "There are `n` friends that are playing a game. The friends are sitting in a circle and are numbered from `1` to `n` in **clockwise order**. More formally, moving clockwise from the `ith` friend brings you to the `(i+1)th` friend for `1 <= i < n`, and moving clockwise from the `nth` friend brings you to the `1st` friend.\n",
    "\n",
    "The rules of the game are as follows:\n",
    "\n",
    "1. **Start** at the `1st` friend.\n",
    "2. Count the next `k` friends in the clockwise direction **including** the friend you started at. The counting wraps around the circle and may count some friends more than once.\n",
    "3. The last friend you counted leaves the circle and loses the game.\n",
    "4. If there is still more than one friend in the circle, go back to step `2` **starting** from the friend **immediately clockwise** of the friend who just lost and repeat.\n",
    "5. Else, the last friend in the circle wins the game.\n",
    "\n",
    "Given the number of friends, `n`, and an integer `k`, return *the winner of the game*.\n",
    "\n",
    "</aside>"
   ]
  },
  {
   "cell_type": "code",
   "execution_count": 34,
   "id": "449129fb-10d2-4024-8130-7ca0985a6ab0",
   "metadata": {},
   "outputs": [
    {
     "name": "stdout",
     "output_type": "stream",
     "text": [
      "3\n"
     ]
    }
   ],
   "source": [
    "from collections import deque\n",
    "\n",
    "def findTheWinner(n, k):\n",
    "    friends = deque(range(1, n + 1))\n",
    "    \n",
    "    # Start at the 1st friend\n",
    "    current = 0\n",
    "    \n",
    "    while len(friends) > 1:\n",
    "        # Count k friends in clockwise direction\n",
    "        current = (current + k - 1) % len(friends)\n",
    "        \n",
    "        # Remove the friend at current position\n",
    "        friends.remove(friends[current])\n",
    "        \n",
    "    # Return the last remaining friend as the winner\n",
    "    return friends[0]\n",
    "\n",
    "# Example usage\n",
    "n = 5\n",
    "k = 2\n",
    "winner = findTheWinner(n, k)\n",
    "print(winner)  # Output: 3\n"
   ]
  },
  {
   "cell_type": "code",
   "execution_count": null,
   "id": "0abb7e17-8cdc-4c5b-8396-0fbcf0eaae8a",
   "metadata": {},
   "outputs": [],
   "source": []
  },
  {
   "cell_type": "code",
   "execution_count": null,
   "id": "70807eb2-98f4-4bd1-ba9d-46e6af9b4403",
   "metadata": {},
   "outputs": [],
   "source": [
    "<aside>\n",
    "💡 **Question 6**\n",
    "\n",
    "You are given an integer array `deck`. There is a deck of cards where every card has a unique integer. The integer on the `ith` card is `deck[i]`.\n",
    "\n",
    "You can order the deck in any order you want. Initially, all the cards start face down (unrevealed) in one deck.\n",
    "\n",
    "You will do the following steps repeatedly until all cards are revealed:\n",
    "\n",
    "1. Take the top card of the deck, reveal it, and take it out of the deck.\n",
    "2. If there are still cards in the deck then put the next top card of the deck at the bottom of the deck.\n",
    "3. If there are still unrevealed cards, go back to step 1. Otherwise, stop.\n",
    "\n",
    "Return *an ordering of the deck that would reveal the cards in increasing order*.\n",
    "\n",
    "**Note** that the first entry in the answer is considered to be the top of the deck.\n",
    "\n",
    "**Example 1:**\n",
    "\n",
    "</aside>"
   ]
  },
  {
   "cell_type": "code",
   "execution_count": 35,
   "id": "eabf3423-1df9-48ce-9e34-fb2a70184514",
   "metadata": {},
   "outputs": [
    {
     "name": "stdout",
     "output_type": "stream",
     "text": [
      "[2, 13, 3, 11, 5, 17, 7]\n"
     ]
    }
   ],
   "source": [
    "from collections import deque\n",
    "\n",
    "def deckRevealedIncreasing(deck):\n",
    "    n = len(deck)\n",
    "    \n",
    "    # Sort the deck in ascending order\n",
    "    deck.sort()\n",
    "    \n",
    "    # Create an empty result array\n",
    "    result = [0] * n\n",
    "    \n",
    "    # Use a queue to simulate the card revealing process\n",
    "    queue = deque(range(n))\n",
    "    \n",
    "    # Perform the card revealing steps\n",
    "    for card in deck:\n",
    "        # Reveal the card and put it in the result array\n",
    "        result[queue.popleft()] = card\n",
    "        \n",
    "        # If there are remaining cards, move the next top card to the bottom\n",
    "        if queue:\n",
    "            queue.append(queue.popleft())\n",
    "    \n",
    "    return result\n",
    "\n",
    "# Example usage\n",
    "deck = [17, 13, 11, 2, 3, 5, 7]\n",
    "result = deckRevealedIncreasing(deck)\n",
    "print(result)  # Output: [2, 13, 3, 11, 5, 17, 7]\n"
   ]
  },
  {
   "cell_type": "code",
   "execution_count": null,
   "id": "7e2b6c15-fdeb-4785-b991-b5de7cce7355",
   "metadata": {},
   "outputs": [],
   "source": [
    "Design a queue that supports `push` and `pop` operations in the front, middle, and back.\n",
    "\n",
    "Implement the `FrontMiddleBack` class:\n",
    "\n",
    "- `FrontMiddleBack()` Initializes the queue.\n",
    "- `void pushFront(int val)` Adds `val` to the **front** of the queue.\n",
    "- `void pushMiddle(int val)` Adds `val` to the **middle** of the queue.\n",
    "- `void pushBack(int val)` Adds `val` to the **back** of the queue.\n",
    "- `int popFront()` Removes the **front** element of the queue and returns it. If the queue is empty, return `1`.\n",
    "- `int popMiddle()` Removes the **middle** element of the queue and returns it. If the queue is empty, return `1`.\n",
    "- `int popBack()` Removes the **back** element of the queue and returns it. If the queue is empty, return `1`.\n",
    "\n",
    "**Notice** that when there are **two** middle position choices, the operation is performed on the **frontmost** middle position choice. For example:\n",
    "\n",
    "- Pushing `6` into the middle of `[1, 2, 3, 4, 5]` results in `[1, 2, 6, 3, 4, 5]`.\n",
    "- Popping the middle from `[1, 2, 3, 4, 5, 6]` returns `3` and results in `[1, 2, 4, 5, 6]`."
   ]
  },
  {
   "cell_type": "code",
   "execution_count": null,
   "id": "8988207b-27ff-4306-958e-b28d66909c54",
   "metadata": {},
   "outputs": [],
   "source": [
    "from collections import deque\n",
    "\n",
    "class FrontMiddleBack:\n",
    "    def __init__(self):\n",
    "        self.frontDeque = deque()\n",
    "        self.backDeque = deque()\n",
    "\n",
    "    def pushFront(self, val: int) -> None:\n",
    "        self.frontDeque.appendleft(val)\n",
    "        self.balance()\n",
    "\n",
    "    def pushMiddle(self, val: int) -> None:\n",
    "        if len(self.frontDeque) > len(self.backDeque):\n",
    "            self.backDeque.appendleft(self.frontDeque.pop())\n",
    "        self.frontDeque.append(val)\n",
    "\n",
    "    def pushBack(self, val: int) -> None:\n",
    "        self.backDeque.append(val)\n",
    "        self.balance()\n",
    "\n",
    "    def popFront(self) -> int:\n",
    "        if self.frontDeque:\n",
    "            return self.frontDeque.popleft()\n",
    "        elif self.backDeque:\n",
    "            return self.backDeque.popleft()\n",
    "        else:\n",
    "            return -1\n",
    "\n",
    "    def popMiddle(self) -> int:\n",
    "        if len(self.frontDeque) > len(self.backDeque):\n",
    "            return self.frontDeque.pop()\n",
    "        else:\n",
    "            return self.backDeque.popleft()\n",
    "\n",
    "    def popBack(self) -> int:\n",
    "        if self.backDeque:\n",
    "            return self.backDeque.pop()\n",
    "        elif self.frontDeque:\n",
    "            return self.frontDeque.pop()\n",
    "        else:\n",
    "            return -1\n",
    "\n",
    "    def balance(self) -> None:\n",
    "        while len(self.frontDeque) > len(self.backDeque) + 1:\n",
    "            self.backDeque.appendleft(self.frontDeque.pop())\n",
    "        while len(self.backDeque) > len(self.frontDeque):\n",
    "            self.frontDeque.append(self.backDeque.popleft())\n"
   ]
  },
  {
   "cell_type": "markdown",
   "id": "54a603a0-702b-4715-a17a-b2ff0f68c71a",
   "metadata": {},
   "source": [
    "For a stream of integers, implement a data structure that checks if the last `k` integers parsed in the stream are **equal** to `value`.\n",
    "\n",
    "Implement the **DataStream** class:\n",
    "\n",
    "- `DataStream(int value, int k)` Initializes the object with an empty integer stream and the two integers `value` and `k`.\n",
    "- `boolean consec(int num)` Adds `num` to the stream of integers. Returns `true` if the last `k` integers are equal to `value`, and `false` otherwise. If there are less than `k` integers, the condition does not hold true, so returns `false`."
   ]
  },
  {
   "cell_type": "code",
   "execution_count": 36,
   "id": "2f789ad8-67cd-4cd8-9285-fc0af1328d4a",
   "metadata": {},
   "outputs": [],
   "source": [
    "from collections import deque\n",
    "\n",
    "class DataStream:\n",
    "    def __init__(self, value, k):\n",
    "        self.value = value\n",
    "        self.k = k\n",
    "        self.stream = deque()\n",
    "\n",
    "    def consec(self, num):\n",
    "        # Add the new number to the stream\n",
    "        self.stream.append(num)\n",
    "        \n",
    "        # If the stream size exceeds k, remove the oldest number\n",
    "        if len(self.stream) > self.k:\n",
    "            self.stream.popleft()\n",
    "        \n",
    "        # Check if the last k numbers are equal to value\n",
    "        return len(self.stream) == self.k and all(x == self.value for x in self.stream)\n"
   ]
  },
  {
   "cell_type": "code",
   "execution_count": 37,
   "id": "6109d2ed-84f1-4fa4-a221-ab121019b7e3",
   "metadata": {},
   "outputs": [
    {
     "name": "stdout",
     "output_type": "stream",
     "text": [
      "False\n",
      "False\n",
      "False\n",
      "False\n",
      "True\n"
     ]
    }
   ],
   "source": [
    "ds = DataStream(3, 4)\n",
    "print(ds.consec(2))  # Output: False\n",
    "print(ds.consec(3))  # Output: False\n",
    "print(ds.consec(3))  # Output: False\n",
    "print(ds.consec(3))  # Output: False\n",
    "print(ds.consec(3))  # Output: True\n"
   ]
  },
  {
   "cell_type": "code",
   "execution_count": null,
   "id": "0f54eff3-dad5-4a17-b268-02a9eef6dad9",
   "metadata": {},
   "outputs": [],
   "source": []
  }
 ],
 "metadata": {
  "kernelspec": {
   "display_name": "Python 3 (ipykernel)",
   "language": "python",
   "name": "python3"
  },
  "language_info": {
   "codemirror_mode": {
    "name": "ipython",
    "version": 3
   },
   "file_extension": ".py",
   "mimetype": "text/x-python",
   "name": "python",
   "nbconvert_exporter": "python",
   "pygments_lexer": "ipython3",
   "version": "3.10.6"
  }
 },
 "nbformat": 4,
 "nbformat_minor": 5
}
