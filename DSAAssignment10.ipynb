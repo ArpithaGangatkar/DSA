{
 "cells": [
  {
   "cell_type": "markdown",
   "id": "fd7c72c4-027c-4609-8afc-7650a041f881",
   "metadata": {},
   "source": [
    "<aside>\n",
    "💡 **Question 1**\n",
    "\n",
    "Given an integer `n`, return *`true` if it is a power of three. Otherwise, return `false`*.\n",
    "\n",
    "An integer `n` is a power of three, if there exists an integer `x` such that `n == 3x`.\n",
    "\n",
    "**Example 1:**\n",
    "\n",
    "</aside>"
   ]
  },
  {
   "cell_type": "code",
   "execution_count": 1,
   "id": "88152991-f48d-4fa6-ba24-68468953c9d4",
   "metadata": {},
   "outputs": [],
   "source": [
    "def pow3(num):\n",
    "    if (num<=1 or num%3!=0):\n",
    "        return False\n",
    "    if (num/3==1):\n",
    "        return True\n",
    "    else :\n",
    "        return pow3(num/3)"
   ]
  },
  {
   "cell_type": "code",
   "execution_count": 4,
   "id": "9549a441-127d-4b58-9b07-1c68d3087cb0",
   "metadata": {},
   "outputs": [
    {
     "data": {
      "text/plain": [
       "True"
      ]
     },
     "execution_count": 4,
     "metadata": {},
     "output_type": "execute_result"
    }
   ],
   "source": [
    "pow3(27)"
   ]
  },
  {
   "cell_type": "markdown",
   "id": "efe710b9-3f02-444b-aee5-791cc560739c",
   "metadata": {},
   "source": [
    "<aside>\n",
    "💡 **Question 2**\n",
    "\n",
    "You have a list `arr` of all integers in the range `[1, n]` sorted in a strictly increasing order. Apply the following algorithm on `arr`:\n",
    "\n",
    "- Starting from left to right, remove the first number and every other number afterward until you reach the end of the list.\n",
    "- Repeat the previous step again, but this time from right to left, remove the rightmost number and every other number from the remaining numbers.\n",
    "- Keep repeating the steps again, alternating left to right and right to left, until a single number remains.\n",
    "\n",
    "Given the integer `n`, return *the last number that remains in* `arr`.\n",
    "\n",
    "</aside>"
   ]
  },
  {
   "cell_type": "code",
   "execution_count": 1,
   "id": "67da7784-c8ca-4a34-8756-a2f15df08ee3",
   "metadata": {},
   "outputs": [
    {
     "name": "stdout",
     "output_type": "stream",
     "text": [
      "6\n"
     ]
    }
   ],
   "source": [
    "def lastRemaining(n):\n",
    "    arr = list(range(1, n+1))\n",
    "    return removeNumbers(arr, True)\n",
    "\n",
    "def removeNumbers(arr, isLeft):\n",
    "    if len(arr) == 1:\n",
    "        return arr[0]\n",
    "\n",
    "    if isLeft:\n",
    "        return removeNumbers(arr[1::2], not isLeft)\n",
    "    else:\n",
    "        return removeNumbers(arr[-2::-2][::-1], not isLeft)\n",
    "\n",
    "# Example usage\n",
    "n = 9\n",
    "result = lastRemaining(n)\n",
    "print(result)  # Output: 6\n",
    "\n",
    "    \n",
    "    "
   ]
  },
  {
   "cell_type": "markdown",
   "id": "563c57df-e0e0-4479-bc48-486a4cada124",
   "metadata": {},
   "source": [
    "💡 **Question 3**\n",
    "\n",
    "****Given a set represented as a string, write a recursive code to print all subsets of it. The subsets can be printed in any order.\n",
    "\n",
    "**Example 1:**\n",
    "\n",
    "Input :  set = “abc”\n",
    "\n",
    "Output : { “”, “a”, “b”, “c”, “ab”, “ac”, “bc”, “abc”}\n",
    "\n",
    "**Example 2:**\n",
    "\n",
    "Input : set = “abcd”\n",
    "\n",
    "Output : { “”, “a” ,”ab” ,”abc” ,”abcd”, “abd” ,”ac” ,”acd”, “ad” ,”b”, “bc” ,”bcd” ,”bd” ,”c” ,”cd” ,”d” }"
   ]
  },
  {
   "cell_type": "code",
   "execution_count": 2,
   "id": "1035ca09-a72c-4d8c-9808-bef13223be10",
   "metadata": {},
   "outputs": [],
   "source": [
    "def print_subsets(s, curr_set ,index):\n",
    "    if index ==len(s):\n",
    "        print(curr_set)\n",
    "        return\n",
    "    # Exclude the current character\n",
    "    print_subsets(s,curr_set ,index+1)\n",
    "    \n",
    "    # Include the current character\n",
    "    \n",
    "    print_subsets(s,curr_set +s[index] ,index+1)\n",
    "    \n",
    "def subsets_of_set(s):\n",
    "    print_subsets(s,\"\",0)\n",
    "    "
   ]
  },
  {
   "cell_type": "code",
   "execution_count": 3,
   "id": "dd78d39d-2804-4aac-85e8-a1631ef16729",
   "metadata": {},
   "outputs": [
    {
     "name": "stdout",
     "output_type": "stream",
     "text": [
      "\n",
      "c\n",
      "b\n",
      "bc\n",
      "a\n",
      "ac\n",
      "ab\n",
      "abc\n"
     ]
    }
   ],
   "source": [
    "subsets_of_set(\"abc\")"
   ]
  },
  {
   "cell_type": "markdown",
   "id": "04b4370a-c0b1-466e-b3fd-461932b2ed10",
   "metadata": {},
   "source": [
    "<aside>\n",
    "💡 **Question 4**\n",
    "\n",
    "Given a string calculate length of the string using recursion.\n",
    "    Input : str = \"abcd\"\n",
    "Output :4\n",
    "\n",
    "Input : str = \"GEEKSFORGEEKS\"\n",
    "Output :13\n",
    "\n",
    "</aside>"
   ]
  },
  {
   "cell_type": "code",
   "execution_count": 8,
   "id": "860bb4af-9e40-41bc-b500-c44c91f02f72",
   "metadata": {},
   "outputs": [],
   "source": [
    "def length(s):\n",
    "    count=0\n",
    "    if s==\"\":\n",
    "        return count\n",
    "    \n",
    "    else:\n",
    "        count+=1\n",
    "        return count+ length(s[1::])\n",
    "    "
   ]
  },
  {
   "cell_type": "code",
   "execution_count": 10,
   "id": "c238d1d8-3b48-4e65-9a8b-32b5065f875d",
   "metadata": {},
   "outputs": [
    {
     "data": {
      "text/plain": [
       "14"
      ]
     },
     "execution_count": 10,
     "metadata": {},
     "output_type": "execute_result"
    }
   ],
   "source": [
    "length(\"geeksfor geeks\")"
   ]
  },
  {
   "cell_type": "markdown",
   "id": "7f8c7a76-dde9-470d-9123-9cee326cd7a1",
   "metadata": {},
   "source": [
    "💡 **Question 5**\n",
    "\n",
    "We are given a string S, we need to find count of all contiguous substrings starting and ending with same character."
   ]
  },
  {
   "cell_type": "code",
   "execution_count": 11,
   "id": "164ec90f-1e8d-4c4f-97e3-960512da1d28",
   "metadata": {},
   "outputs": [],
   "source": [
    "def count_contiguous_substrings(s):\n",
    "    count=0\n",
    "    \n",
    "    # Recursive helper function\n",
    "    \n",
    "    def helper(start,end):\n",
    "        nonlocal count\n",
    "        \n",
    "        #Base case: If start and end indices cross each other\n",
    "        \n",
    "        if start> end:\n",
    "            return\n",
    "        \n",
    "        # If the substring from start to end is valid\n",
    "        \n",
    "        if s[start]==s[end]:\n",
    "            count+=1\n",
    "            \n",
    "        # Recurse with next start and end indices\n",
    "        helper(start ,end-1)\n",
    "        helper(start + 1 ,end)\n",
    "        \n",
    "        #Start the recursion with initial indices\n",
    "    helper(0,len(s)-1)\n",
    "    return count\n",
    "        \n",
    "        "
   ]
  },
  {
   "cell_type": "code",
   "execution_count": 12,
   "id": "f2d6b273-7b12-4c46-9bb3-813f91b52cdc",
   "metadata": {},
   "outputs": [
    {
     "name": "stdout",
     "output_type": "stream",
     "text": [
      "9\n"
     ]
    }
   ],
   "source": [
    "# Example usage:\n",
    "s = \"abca\"\n",
    "print(count_contiguous_substrings(s))"
   ]
  },
  {
   "cell_type": "markdown",
   "id": "bf96f19a-ad54-4371-90f3-990481993fbf",
   "metadata": {},
   "source": [
    "<aside>\n",
    "💡 **Question 6**\n",
    "\n",
    "The [tower of Hanoi](https://en.wikipedia.org/wiki/Tower_of_Hanoi) is a famous puzzle where we have three rods and **N** disks. The objective of the puzzle is to move the entire stack to another rod. You are given the number of discs **N**. Initially, these discs are in the rod 1. You need to print all the steps of discs movement so that all the discs reach the 3rd rod. Also, you need to find the total moves.**Note:** The discs are arranged such that the **top disc is numbered 1** and the **bottom-most disc is numbered N**. Also, all the discs have **different sizes** and a bigger disc **cannot** be put on the top of a smaller disc. Refer the provided link to get a better clarity about the puzzle.\n",
    "\n",
    "</aside>"
   ]
  },
  {
   "cell_type": "code",
   "execution_count": 13,
   "id": "27e173f8-020a-4ca3-8f41-af1f5cf14a1c",
   "metadata": {},
   "outputs": [
    {
     "name": "stdout",
     "output_type": "stream",
     "text": [
      "Move disk 1 from Rod 1 to Rod 3\n",
      "Move disk 2 from Rod 1 to Rod 2\n",
      "Move disk 1 from Rod 3 to Rod 2\n",
      "Move disk 3 from Rod 1 to Rod 3\n",
      "Move disk 1 from Rod 2 to Rod 1\n",
      "Move disk 2 from Rod 2 to Rod 3\n",
      "Move disk 1 from Rod 1 to Rod 3\n",
      "Total moves: 7\n"
     ]
    }
   ],
   "source": [
    "def tower_of_hanoi(n, source, destination, auxiliary):\n",
    "    if n == 1:\n",
    "        print(f\"Move disk 1 from {source} to {destination}\")\n",
    "        return 1\n",
    "    else:\n",
    "        moves = 0\n",
    "        moves += tower_of_hanoi(n - 1, source, auxiliary, destination)\n",
    "        print(f\"Move disk {n} from {source} to {destination}\")\n",
    "        moves += 1\n",
    "        moves += tower_of_hanoi(n - 1, auxiliary, destination, source)\n",
    "        return moves\n",
    "\n",
    "# Example usage:\n",
    "n = 3\n",
    "total_moves = tower_of_hanoi(n, \"Rod 1\", \"Rod 3\", \"Rod 2\")\n",
    "print(f\"Total moves: {total_moves}\")\n"
   ]
  },
  {
   "cell_type": "markdown",
   "id": "a4ad9ec9-11dc-4018-9171-8b89f9970afa",
   "metadata": {},
   "source": [
    "<aside>\n",
    "💡 **Question 7**\n",
    "\n",
    "Given a string **str**, the task is to print all the permutations of **str**. A **permutation** is an arrangement of all or part of a set of objects, with regard to the order of the arrangement. For instance, the words ‘bat’ and ‘tab’ represents two distinct permutation (or arrangements) of a similar three letter word.\n",
    "\n",
    "</aside>"
   ]
  },
  {
   "cell_type": "code",
   "execution_count": 14,
   "id": "89a21777-0f2a-4b4b-8840-ca7e71225cb9",
   "metadata": {},
   "outputs": [],
   "source": [
    "def permutations(s,current=\"\"):\n",
    "    # Base case: If all characters of the string have been used.\n",
    "    \n",
    "    if len(s)==0:\n",
    "        print(current)\n",
    "        return\n",
    "    for i in range(len(s)):\n",
    "        permutations(s[:i]+s[i+1:] ,current + s[i])\n",
    "    "
   ]
  },
  {
   "cell_type": "code",
   "execution_count": 15,
   "id": "0ebf5544-e5d6-44df-a075-1f4223b55de9",
   "metadata": {},
   "outputs": [
    {
     "name": "stdout",
     "output_type": "stream",
     "text": [
      "abc\n",
      "acb\n",
      "bac\n",
      "bca\n",
      "cab\n",
      "cba\n"
     ]
    }
   ],
   "source": [
    "# Example usage:\n",
    "s = \"abc\"\n",
    "permutations(s)"
   ]
  },
  {
   "cell_type": "markdown",
   "id": "20366f3b-97c2-4e24-9326-b5da22045ca9",
   "metadata": {},
   "source": [
    "<aside>\n",
    "💡 **Question 8**\n",
    "\n",
    "Given a string, count total number of consonants in it. A consonant is an English alphabet character that is not vowel (a, e, i, o and u). Examples of constants are b, c, d, f, and g.\n",
    "\n",
    "**Examples :**\n",
    "\n",
    "</aside>"
   ]
  },
  {
   "cell_type": "code",
   "execution_count": 16,
   "id": "975d37a9-8e34-4bb2-b3f8-296ec2c48b0b",
   "metadata": {},
   "outputs": [],
   "source": [
    "def count_consonants(s):\n",
    "    if len(s)==0:\n",
    "        return 0\n",
    "    count= count_consonants(s[1:])\n",
    "    \n",
    "    if s[0].lower() not in ['a','e','i','o','u'] and s[0].isalpha():\n",
    "        count+=1\n",
    "    return count\n",
    "        \n",
    "    "
   ]
  },
  {
   "cell_type": "code",
   "execution_count": 17,
   "id": "33f9ed76-a8fa-432a-967a-8c41674a3d5a",
   "metadata": {},
   "outputs": [
    {
     "name": "stdout",
     "output_type": "stream",
     "text": [
      "Number of consonants: 7\n"
     ]
    }
   ],
   "source": [
    "# Example usage:\n",
    "s = \"Hello World\"\n",
    "consonant_count = count_consonants(s)\n",
    "print(\"Number of consonants:\", consonant_count)"
   ]
  },
  {
   "cell_type": "code",
   "execution_count": null,
   "id": "30f99dec-74e4-4e80-8c11-4e7f35e7913f",
   "metadata": {},
   "outputs": [],
   "source": []
  }
 ],
 "metadata": {
  "kernelspec": {
   "display_name": "Python 3 (ipykernel)",
   "language": "python",
   "name": "python3"
  },
  "language_info": {
   "codemirror_mode": {
    "name": "ipython",
    "version": 3
   },
   "file_extension": ".py",
   "mimetype": "text/x-python",
   "name": "python",
   "nbconvert_exporter": "python",
   "pygments_lexer": "ipython3",
   "version": "3.10.6"
  }
 },
 "nbformat": 4,
 "nbformat_minor": 5
}
